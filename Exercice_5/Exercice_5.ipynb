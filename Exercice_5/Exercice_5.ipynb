{
 "cells": [
  {
   "cell_type": "markdown",
   "id": "b30b8f4e-9a22-4897-9b9a-cacbefeef210",
   "metadata": {},
   "source": [
    "# FTML Project"
   ]
  },
  {
   "cell_type": "code",
   "execution_count": 21,
   "id": "a75e120e-9654-4356-bec4-ab64a3c73499",
   "metadata": {},
   "outputs": [
    {
     "ename": "ImportError",
     "evalue": "cannot import name 'VotingClassifier' from 'sklearn.linear_model' (/home/alex/afs/Master/FTML_project/venv/lib/python3.13/site-packages/sklearn/linear_model/__init__.py)",
     "output_type": "error",
     "traceback": [
      "\u001b[31m---------------------------------------------------------------------------\u001b[39m",
      "\u001b[31mImportError\u001b[39m                               Traceback (most recent call last)",
      "\u001b[36mCell\u001b[39m\u001b[36m \u001b[39m\u001b[32mIn[21]\u001b[39m\u001b[32m, line 15\u001b[39m\n\u001b[32m      5\u001b[39m \u001b[38;5;28;01mimport\u001b[39;00m\u001b[38;5;250m \u001b[39m\u001b[34;01moptuna\u001b[39;00m\n\u001b[32m      7\u001b[39m \u001b[38;5;28;01mfrom\u001b[39;00m\u001b[38;5;250m \u001b[39m\u001b[34;01msklearn\u001b[39;00m\u001b[34;01m.\u001b[39;00m\u001b[34;01mensemble\u001b[39;00m\u001b[38;5;250m \u001b[39m\u001b[38;5;28;01mimport\u001b[39;00m (\n\u001b[32m      8\u001b[39m     RandomForestClassifier,\n\u001b[32m      9\u001b[39m     AdaBoostClassifier,\n\u001b[32m   (...)\u001b[39m\u001b[32m     13\u001b[39m     ExtraTreesClassifier\n\u001b[32m     14\u001b[39m )\n\u001b[32m---> \u001b[39m\u001b[32m15\u001b[39m \u001b[38;5;28;01mfrom\u001b[39;00m\u001b[38;5;250m \u001b[39m\u001b[34;01msklearn\u001b[39;00m\u001b[34;01m.\u001b[39;00m\u001b[34;01mlinear_model\u001b[39;00m\u001b[38;5;250m \u001b[39m\u001b[38;5;28;01mimport\u001b[39;00m (\n\u001b[32m     16\u001b[39m     RidgeClassifier,\n\u001b[32m     17\u001b[39m     LogisticRegression,\n\u001b[32m     18\u001b[39m     ARDRegression,  \u001b[38;5;66;03m# Not available for classification\u001b[39;00m\n\u001b[32m     19\u001b[39m       SGDClassifier,\n\u001b[32m     20\u001b[39m     Perceptron,\n\u001b[32m     21\u001b[39m     PassiveAggressiveClassifier,\n\u001b[32m     22\u001b[39m     VotingClassifier\n\u001b[32m     23\u001b[39m )\n\u001b[32m     24\u001b[39m \u001b[38;5;28;01mfrom\u001b[39;00m\u001b[38;5;250m \u001b[39m\u001b[34;01msklearn\u001b[39;00m\u001b[34;01m.\u001b[39;00m\u001b[34;01mnaive_bayes\u001b[39;00m\u001b[38;5;250m \u001b[39m\u001b[38;5;28;01mimport\u001b[39;00m (\n\u001b[32m     25\u001b[39m     GaussianNB,\n\u001b[32m     26\u001b[39m     MultinomialNB,\n\u001b[32m     27\u001b[39m     BernoulliNB\n\u001b[32m     28\u001b[39m )\n\u001b[32m     29\u001b[39m \u001b[38;5;28;01mfrom\u001b[39;00m\u001b[38;5;250m \u001b[39m\u001b[34;01msklearn\u001b[39;00m\u001b[34;01m.\u001b[39;00m\u001b[34;01mneighbors\u001b[39;00m\u001b[38;5;250m \u001b[39m\u001b[38;5;28;01mimport\u001b[39;00m KNeighborsClassifier\n",
      "\u001b[31mImportError\u001b[39m: cannot import name 'VotingClassifier' from 'sklearn.linear_model' (/home/alex/afs/Master/FTML_project/venv/lib/python3.13/site-packages/sklearn/linear_model/__init__.py)"
     ]
    }
   ],
   "source": [
    "import numpy as np\n",
    "import matplotlib.pyplot as plt\n",
    "from sklearn.pipeline import make_pipeline\n",
    "from sklearn.metrics import f1_score\n",
    "import optuna\n",
    "\n",
    "from sklearn.ensemble import (\n",
    "    RandomForestClassifier,\n",
    "    AdaBoostClassifier,\n",
    "    BaggingClassifier,\n",
    "    GradientBoostingClassifier,\n",
    "    HistGradientBoostingClassifier,\n",
    "    ExtraTreesClassifier\n",
    ")\n",
    "from sklearn.linear_model import (\n",
    "    RidgeClassifier,\n",
    "    LogisticRegression,\n",
    "    ARDRegression,  # Not available for classification\n",
    "      SGDClassifier,\n",
    "    Perceptron,\n",
    "    PassiveAggressiveClassifier,\n",
    "    VotingClassifier\n",
    ")\n",
    "from sklearn.naive_bayes import (\n",
    "    GaussianNB,\n",
    "    MultinomialNB,\n",
    "    BernoulliNB\n",
    ")\n",
    "from sklearn.neighbors import KNeighborsClassifier\n",
    "from sklearn.svm import SVC\n",
    "from sklearn.tree import DecisionTreeClassifier\n",
    "from sklearn.neural_network import MLPClassifier\n",
    "\n",
    "\n",
    "X_train = np.load(\"../data/classification/X_train.npy\")\n",
    "X_test = np.load(\"../data/classification/X_test.npy\")\n",
    "Y_train = np.load(\"../data/classification/y_train.npy\")\n",
    "Y_test = np.load(\"../data/classification/y_test.npy\")\n",
    "\n",
    "# Squeeze output arrays\n",
    "Y_train = np.squeeze(Y_train)\n",
    "Y_test = np.squeeze(Y_test)"
   ]
  },
  {
   "cell_type": "code",
   "execution_count": 18,
   "id": "b04efe1c-7626-4a66-8a20-56f7f556aa32",
   "metadata": {},
   "outputs": [],
   "source": [
    "def try_model(classifier) :\n",
    "    model = make_pipeline(\n",
    "            #PCA(n_components=0.1),\n",
    "            classifier,\n",
    "        )\n",
    "    \n",
    "    model.fit(X_train, Y_train)\n",
    "    \n",
    "    Y_pred = model.predict(X_test)\n",
    "    f1 = f1_score(Y_test, Y_pred)\n",
    "    print(f\"Score for regressor {classifier}: {f1}\")"
   ]
  },
  {
   "cell_type": "code",
   "execution_count": 20,
   "id": "332361b5-ed6c-45fe-87f8-d265211bf960",
   "metadata": {},
   "outputs": [
    {
     "ename": "NameError",
     "evalue": "name 'VotingClassifier' is not defined",
     "output_type": "error",
     "traceback": [
      "\u001b[31m---------------------------------------------------------------------------\u001b[39m",
      "\u001b[31mNameError\u001b[39m                                 Traceback (most recent call last)",
      "\u001b[36mCell\u001b[39m\u001b[36m \u001b[39m\u001b[32mIn[20]\u001b[39m\u001b[32m, line 19\u001b[39m\n\u001b[32m      1\u001b[39m classifiers = [\n\u001b[32m      2\u001b[39m     RandomForestClassifier(),\n\u001b[32m      3\u001b[39m     AdaBoostClassifier(),\n\u001b[32m      4\u001b[39m     BaggingClassifier(),\n\u001b[32m      5\u001b[39m     GradientBoostingClassifier(),\n\u001b[32m      6\u001b[39m     HistGradientBoostingClassifier(),\n\u001b[32m      7\u001b[39m     ExtraTreesClassifier(),\n\u001b[32m      8\u001b[39m     RidgeClassifier(),\n\u001b[32m      9\u001b[39m     LogisticRegression(max_iter=\u001b[32m1000\u001b[39m),\n\u001b[32m     10\u001b[39m     SGDClassifier(),\n\u001b[32m     11\u001b[39m     Perceptron(),\n\u001b[32m     12\u001b[39m     PassiveAggressiveClassifier(),\n\u001b[32m     13\u001b[39m     GaussianNB(),\n\u001b[32m     14\u001b[39m     BernoulliNB(),\n\u001b[32m     15\u001b[39m     KNeighborsClassifier(),\n\u001b[32m     16\u001b[39m     SVC(probability=\u001b[38;5;28;01mTrue\u001b[39;00m),\n\u001b[32m     17\u001b[39m     DecisionTreeClassifier(),\n\u001b[32m     18\u001b[39m     MLPClassifier(max_iter=\u001b[32m1000\u001b[39m),\n\u001b[32m---> \u001b[39m\u001b[32m19\u001b[39m     \u001b[43mVotingClassifier\u001b[49m(\n\u001b[32m     20\u001b[39m     estimators=[\n\u001b[32m     21\u001b[39m         (\u001b[33m'\u001b[39m\u001b[33msvc\u001b[39m\u001b[33m'\u001b[39m, SVC(probability=\u001b[38;5;28;01mTrue\u001b[39;00m)),\n\u001b[32m     22\u001b[39m         (\u001b[33m'\u001b[39m\u001b[33mrf\u001b[39m\u001b[33m'\u001b[39m, RandomForestClassifier()),\n\u001b[32m     23\u001b[39m         (\u001b[33m'\u001b[39m\u001b[33mhist_gb\u001b[39m\u001b[33m'\u001b[39m, HistGradientBoostingClassifier()),\n\u001b[32m     24\u001b[39m         (\u001b[33m'\u001b[39m\u001b[33mknn\u001b[39m\u001b[33m'\u001b[39m, KNeighborsClassifier()),\n\u001b[32m     25\u001b[39m         (\u001b[33m'\u001b[39m\u001b[33mgb\u001b[39m\u001b[33m'\u001b[39m, GradientBoostingClassifier()),\n\u001b[32m     26\u001b[39m     ],\n\u001b[32m     27\u001b[39m     voting=\u001b[33m'\u001b[39m\u001b[33msoft\u001b[39m\u001b[33m'\u001b[39m  \u001b[38;5;66;03m# soft voting uses predicted probabilities\u001b[39;00m\n\u001b[32m     28\u001b[39m )\n\u001b[32m     29\u001b[39m ]\n\u001b[32m     31\u001b[39m \u001b[38;5;28;01mfor\u001b[39;00m classifier \u001b[38;5;129;01min\u001b[39;00m classifiers :\n\u001b[32m     32\u001b[39m     try_model(classifier)\n",
      "\u001b[31mNameError\u001b[39m: name 'VotingClassifier' is not defined"
     ]
    }
   ],
   "source": [
    "classifiers = [\n",
    "    RandomForestClassifier(),\n",
    "    AdaBoostClassifier(),\n",
    "    BaggingClassifier(),\n",
    "    GradientBoostingClassifier(),\n",
    "    HistGradientBoostingClassifier(),\n",
    "    ExtraTreesClassifier(),\n",
    "    RidgeClassifier(),\n",
    "    LogisticRegression(max_iter=1000),\n",
    "    SGDClassifier(),\n",
    "    Perceptron(),\n",
    "    PassiveAggressiveClassifier(),\n",
    "    GaussianNB(),\n",
    "    BernoulliNB(),\n",
    "    KNeighborsClassifier(),\n",
    "    SVC(probability=True),\n",
    "    DecisionTreeClassifier(),\n",
    "    MLPClassifier(max_iter=1000),\n",
    "    VotingClassifier(\n",
    "    estimators=[\n",
    "        ('svc', SVC(probability=True)),\n",
    "        ('rf', RandomForestClassifier()),\n",
    "        ('hist_gb', HistGradientBoostingClassifier()),\n",
    "        ('knn', KNeighborsClassifier()),\n",
    "        ('gb', GradientBoostingClassifier()),\n",
    "    ],\n",
    "    voting='soft'  # soft voting uses predicted probabilities\n",
    ")\n",
    "]\n",
    "\n",
    "for classifier in classifiers :\n",
    "    try_model(classifier)"
   ]
  },
  {
   "cell_type": "markdown",
   "id": "9ac959ca-841d-405d-b67c-7b4a44da28bc",
   "metadata": {},
   "source": [
    "## KNeighbors"
   ]
  },
  {
   "cell_type": "code",
   "execution_count": null,
   "id": "bf36c62c-c876-4f48-ac5d-16376c3706ee",
   "metadata": {},
   "outputs": [],
   "source": [
    "scores = []\n",
    "ks = list(range(1, 100))\n",
    "\n",
    "for k in ks:\n",
    "    model = KNeighborsClassifier(n_neighbors = k, weights=\"distance\", n_jobs=-1)\n",
    "    model.fit(X_train, Y_train)\n",
    "    score = model.score(X_test, Y_test)\n",
    "    \n",
    "    scores.append(score)\n",
    "\n",
    "plt.plot(ks, scores)\n",
    "print(\"best K: \", ks[np.argmax(scores)])\n",
    "print(\"score: \", max(scores))"
   ]
  },
  {
   "cell_type": "markdown",
   "id": "12dc6616-4138-40fa-aa76-2440cc7676da",
   "metadata": {},
   "source": [
    "## LogisticRegression"
   ]
  },
  {
   "cell_type": "code",
   "execution_count": null,
   "id": "6ab2906f-576f-4a8e-b07d-6a52b066d465",
   "metadata": {},
   "outputs": [],
   "source": [
    "model = LogisticRegression()\n",
    "model.fit(X_train, Y_train)\n",
    "score = model.score(X_test, Y_test)\n",
    "print(\"score: \", score)"
   ]
  },
  {
   "cell_type": "markdown",
   "id": "ae7f9a59-44d1-4fc7-b2be-89d9f51ad37f",
   "metadata": {},
   "source": [
    "## SVC"
   ]
  },
  {
   "cell_type": "code",
   "execution_count": null,
   "id": "35f9a884-e8da-4fb7-8b94-5c944f679e5b",
   "metadata": {},
   "outputs": [],
   "source": [
    "model = make_pipeline(StandardScaler(), SVC())\n",
    "model.fit(X_train_scaled, Y_train)\n",
    "score = model.score(X_test_scaled, Y_test)\n",
    "\n",
    "print(\"score: \", score)"
   ]
  },
  {
   "cell_type": "markdown",
   "id": "d8fdc009-8a7a-4833-baed-2218bef245bf",
   "metadata": {},
   "source": [
    "## MLPClassifier"
   ]
  },
  {
   "cell_type": "code",
   "execution_count": null,
   "id": "555134b0-206d-4399-a6f0-561edad8e10e",
   "metadata": {},
   "outputs": [],
   "source": [
    "model = MLPClassifier(max_iter=500, early_stopping=True)\n",
    "model.fit(X_train, Y_train)\n",
    "score = model.score(X_test, Y_test)\n",
    "print(\"score: \", score)"
   ]
  },
  {
   "cell_type": "markdown",
   "id": "b155a29b-530d-4891-866c-ca0d86a9d62d",
   "metadata": {},
   "source": [
    "## AdaBoostClassifier"
   ]
  },
  {
   "cell_type": "markdown",
   "id": "c89ec90c-798d-4aab-b6d5-10c265f60ea4",
   "metadata": {},
   "source": [
    "## GradientBoostingClassifier"
   ]
  },
  {
   "cell_type": "code",
   "execution_count": null,
   "id": "ca2d015c-1b79-46a5-bb82-b3d3fc25a367",
   "metadata": {},
   "outputs": [],
   "source": [
    "model = GradientBoostingClassifier()\n",
    "model.fit(X_train, Y_train)\n",
    "score = model.score(X_test, Y_test)\n",
    "print(\"score: \", score)"
   ]
  },
  {
   "cell_type": "code",
   "execution_count": null,
   "id": "feb1b85a-1317-4b16-b8f8-d5c84e178ca0",
   "metadata": {},
   "outputs": [],
   "source": [
    "model = AdaBoostClassifier()\n",
    "model.fit(X_train, Y_train)\n",
    "score = model.score(X_test, Y_test)\n",
    "print(\"score: \", score)"
   ]
  },
  {
   "cell_type": "markdown",
   "id": "4366df7c-91f1-4aa4-bcff-bc78f90e4cf3",
   "metadata": {},
   "source": [
    "# Hyperparameter tuning with optuna\n"
   ]
  },
  {
   "cell_type": "markdown",
   "id": "24fac1c9-ea30-427a-b35e-a9211b452e81",
   "metadata": {},
   "source": [
    "## SVC\n",
    "SVC had the highest score by default so we will optimise this model.\n",
    "\n",
    "Conclusion: SVC default parameters are the best we can expect."
   ]
  },
  {
   "cell_type": "code",
   "execution_count": null,
   "id": "99e853e7-cee4-412b-bbcb-a274c9bb12bc",
   "metadata": {},
   "outputs": [],
   "source": [
    "def objective(trial):\n",
    "    C = trial.suggest_float('C', 0, 1)\n",
    "    degree = trial.suggest_int('degree', 1, 10)\n",
    "    kernel = trial.suggest_categorical('kernel',['linear', 'poly', 'rbf', 'sigmoid'])\n",
    "    gamma = trial.suggest_categorical('gamma',['scale', 'auto'])\n",
    "    \n",
    "    \n",
    "    model = make_pipeline(StandardScaler(), SVC(C=C, degree=degree, kernel=kernel, gamma=gamma))\n",
    "    model.fit(X_train, Y_train)\n",
    "    score = model.score(X_test, Y_test)\n",
    "    return score\n",
    "\n",
    "study = optuna.create_study(study_name=\"SVC hyperparameter optimisation v2\", direction=\"maximize\")\n",
    "study.optimize(objective, n_trials=300)\n",
    "\n",
    "study.best_params"
   ]
  },
  {
   "cell_type": "markdown",
   "id": "d95c4008-7465-4521-b882-eb70614ccc7a",
   "metadata": {},
   "source": [
    "## GradientBoostingClassifier"
   ]
  },
  {
   "cell_type": "code",
   "execution_count": null,
   "id": "56c7c23b-0f0b-40b7-aafa-0e2a8b5dbc88",
   "metadata": {},
   "outputs": [],
   "source": [
    "def objective(trial):\n",
    "    subsample = trial.suggest_float('subsample', 0, 1)\n",
    "    learning_rate = trial.suggest_float('learning_rate', 0.001, 1)\n",
    "    n_estimators = trial.suggest_int('n_estimators', 1, 300)\n",
    "    loss = trial.suggest_categorical('loss',['log_loss', 'exponential'])\n",
    "    \n",
    "    \n",
    "    model = GradientBoostingClassifier(subsample=subsample, learning_rate=learning_rate, n_estimators=n_estimators, loss=loss)\n",
    "    model.fit(X_train, Y_train)\n",
    "    score = model.score(X_test, Y_test)\n",
    "    return score\n",
    "\n",
    "study = optuna.create_study(study_name=\"GradientBoostingClassifier hyperparameter optimisation \", direction=\"maximize\")\n",
    "study.optimize(objective, n_trials=300)\n",
    "\n",
    "study.best_params"
   ]
  }
 ],
 "metadata": {
  "kernelspec": {
   "display_name": "ftml-venv",
   "language": "python",
   "name": "venv"
  },
  "language_info": {
   "codemirror_mode": {
    "name": "ipython",
    "version": 3
   },
   "file_extension": ".py",
   "mimetype": "text/x-python",
   "name": "python",
   "nbconvert_exporter": "python",
   "pygments_lexer": "ipython3",
   "version": "3.13.3"
  }
 },
 "nbformat": 4,
 "nbformat_minor": 5
}
