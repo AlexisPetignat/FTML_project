{
 "cells": [
  {
   "cell_type": "markdown",
   "id": "b30b8f4e-9a22-4897-9b9a-cacbefeef210",
   "metadata": {},
   "source": [
    "# FTML Project"
   ]
  },
  {
   "cell_type": "code",
   "execution_count": 19,
   "id": "a75e120e-9654-4356-bec4-ab64a3c73499",
   "metadata": {},
   "outputs": [],
   "source": [
    "import numpy as np\n",
    "import matplotlib.pyplot as plt\n",
    "from sklearn.neighbors import KNeighborsClassifier\n",
    "from sklearn.linear_model import LogisticRegression, SGDClassifier\n",
    "from sklearn.svm import SVC, LinearSVC\n",
    "from sklearn.neural_network import MLPClassifier\n",
    "from sklearn.ensemble import AdaBoostClassifier, GradientBoostingClassifier\n",
    "from sklearn.preprocessing import StandardScaler\n",
    "from sklearn.pipeline import make_pipeline\n",
    "import optuna\n",
    "\n",
    "\n",
    "X_train = np.load(\"../data/classification/X_train.npy\")\n",
    "X_test = np.load(\"../data/classification/X_test.npy\")\n",
    "Y_train = np.load(\"../data/classification/y_train.npy\")\n",
    "Y_test = np.load(\"../data/classification/y_test.npy\")"
   ]
  },
  {
   "cell_type": "markdown",
   "id": "9ac959ca-841d-405d-b67c-7b4a44da28bc",
   "metadata": {},
   "source": [
    "## KNeighbors"
   ]
  },
  {
   "cell_type": "code",
   "execution_count": 49,
   "id": "bf36c62c-c876-4f48-ac5d-16376c3706ee",
   "metadata": {},
   "outputs": [
    {
     "name": "stdout",
     "output_type": "stream",
     "text": [
      "best K:  43\n",
      "score:  0.799\n"
     ]
    },
    {
     "data": {
      "image/png": "[encoded data removed]",
      "text/plain": [
       "<Figure size 640x480 with 1 Axes>"
      ]
     },
     "metadata": {},
     "output_type": "display_data"
    }
   ],
   "source": [
    "scores = []\n",
    "ks = list(range(1, 100))\n",
    "\n",
    "for k in ks:\n",
    "    model = KNeighborsClassifier(n_neighbors = k, weights=\"distance\", n_jobs=-1)\n",
    "    model.fit(X_train, Y_train)\n",
    "    score = model.score(X_test, Y_test)\n",
    "    \n",
    "    scores.append(score)\n",
    "\n",
    "plt.plot(ks, scores)\n",
    "print(\"best K: \", ks[np.argmax(scores)])\n",
    "print(\"score: \", max(scores))"
   ]
  },
  {
   "cell_type": "markdown",
   "id": "12dc6616-4138-40fa-aa76-2440cc7676da",
   "metadata": {},
   "source": [
    "## LogisticRegression"
   ]
  },
  {
   "cell_type": "code",
   "execution_count": 33,
   "id": "6ab2906f-576f-4a8e-b07d-6a52b066d465",
   "metadata": {},
   "outputs": [
    {
     "name": "stdout",
     "output_type": "stream",
     "text": [
      "score:  0.7435\n"
     ]
    }
   ],
   "source": [
    "model = LogisticRegression()\n",
    "model.fit(X_train, Y_train)\n",
    "score = model.score(X_test, Y_test)\n",
    "print(\"score: \", score)"
   ]
  },
  {
   "cell_type": "markdown",
   "id": "ae7f9a59-44d1-4fc7-b2be-89d9f51ad37f",
   "metadata": {},
   "source": [
    "## SVC"
   ]
  },
  {
   "cell_type": "code",
   "execution_count": 101,
   "id": "35f9a884-e8da-4fb7-8b94-5c944f679e5b",
   "metadata": {},
   "outputs": [
    {
     "name": "stdout",
     "output_type": "stream",
     "text": [
      "score:  0.7925\n"
     ]
    }
   ],
   "source": [
    "model = make_pipeline(StandardScaler(), SVC())\n",
    "model.fit(X_train_scaled, Y_train)\n",
    "score = model.score(X_test_scaled, Y_test)\n",
    "\n",
    "print(\"score: \", score)"
   ]
  },
  {
   "cell_type": "markdown",
   "id": "d8fdc009-8a7a-4833-baed-2218bef245bf",
   "metadata": {},
   "source": [
    "## MLPClassifier"
   ]
  },
  {
   "cell_type": "code",
   "execution_count": 66,
   "id": "555134b0-206d-4399-a6f0-561edad8e10e",
   "metadata": {},
   "outputs": [
    {
     "name": "stdout",
     "output_type": "stream",
     "text": [
      "score:  0.76\n"
     ]
    }
   ],
   "source": [
    "model = MLPClassifier(max_iter=500, early_stopping=True)\n",
    "model.fit(X_train, Y_train)\n",
    "score = model.score(X_test, Y_test)\n",
    "print(\"score: \", score)"
   ]
  },
  {
   "cell_type": "markdown",
   "id": "b155a29b-530d-4891-866c-ca0d86a9d62d",
   "metadata": {},
   "source": [
    "## AdaBoostClassifier"
   ]
  },
  {
   "cell_type": "markdown",
   "id": "c89ec90c-798d-4aab-b6d5-10c265f60ea4",
   "metadata": {},
   "source": [
    "## GradientBoostingClassifier"
   ]
  },
  {
   "cell_type": "code",
   "execution_count": 20,
   "id": "ca2d015c-1b79-46a5-bb82-b3d3fc25a367",
   "metadata": {},
   "outputs": [
    {
     "name": "stdout",
     "output_type": "stream",
     "text": [
      "score:  0.7605\n"
     ]
    }
   ],
   "source": [
    "model = GradientBoostingClassifier()\n",
    "model.fit(X_train, Y_train)\n",
    "score = model.score(X_test, Y_test)\n",
    "print(\"score: \", score)"
   ]
  },
  {
   "cell_type": "code",
   "execution_count": 44,
   "id": "feb1b85a-1317-4b16-b8f8-d5c84e178ca0",
   "metadata": {},
   "outputs": [
    {
     "name": "stdout",
     "output_type": "stream",
     "text": [
      "score:  0.7355\n"
     ]
    }
   ],
   "source": [
    "model = AdaBoostClassifier()\n",
    "model.fit(X_train, Y_train)\n",
    "score = model.score(X_test, Y_test)\n",
    "print(\"score: \", score)"
   ]
  },
  {
   "cell_type": "markdown",
   "id": "4366df7c-91f1-4aa4-bcff-bc78f90e4cf3",
   "metadata": {},
   "source": [
    "# Hyperparameter tuning with optuna\n"
   ]
  },
  {
   "cell_type": "markdown",
   "id": "24fac1c9-ea30-427a-b35e-a9211b452e81",
   "metadata": {
    "jp-MarkdownHeadingCollapsed": true
   },
   "source": [
    "## SVC\n",
    "SVC had the highest score by default so we will optimise this model.\n",
    "\n",
    "Conclusion: SVC default parameters are the best we can expect."
   ]
  },
  {
   "cell_type": "code",
   "execution_count": 16,
   "id": "99e853e7-cee4-412b-bbcb-a274c9bb12bc",
   "metadata": {},
   "outputs": [
    {
     "name": "stderr",
     "output_type": "stream",
     "text": [
      "[I 2025-06-01 16:17:33,902] A new study created in memory with name: SVC hyperparameter optimisation v2\n",
      "[I 2025-06-01 16:17:34,303] Trial 0 finished with value: 0.606 and parameters: {'C': 0.4780402571926753, 'degree': 6, 'kernel': 'poly', 'gamma': 'auto'}. Best is trial 0 with value: 0.606.\n",
      "[I 2025-06-01 16:17:34,676] Trial 1 finished with value: 0.716 and parameters: {'C': 0.7311306765651996, 'degree': 2, 'kernel': 'sigmoid', 'gamma': 'scale'}. Best is trial 1 with value: 0.716.\n",
      "[I 2025-06-01 16:17:35,010] Trial 2 finished with value: 0.674 and parameters: {'C': 0.2635108439467828, 'degree': 5, 'kernel': 'poly', 'gamma': 'scale'}. Best is trial 1 with value: 0.716.\n",
      "[I 2025-06-01 16:17:35,404] Trial 3 finished with value: 0.602 and parameters: {'C': 0.5485267889055908, 'degree': 7, 'kernel': 'poly', 'gamma': 'scale'}. Best is trial 1 with value: 0.716.\n",
      "[I 2025-06-01 16:17:35,756] Trial 4 finished with value: 0.749 and parameters: {'C': 0.731099735715622, 'degree': 6, 'kernel': 'linear', 'gamma': 'auto'}. Best is trial 4 with value: 0.749.\n",
      "[I 2025-06-01 16:17:36,122] Trial 5 finished with value: 0.7755 and parameters: {'C': 0.28465968193074165, 'degree': 6, 'kernel': 'rbf', 'gamma': 'scale'}. Best is trial 5 with value: 0.7755.\n",
      "[I 2025-06-01 16:17:36,489] Trial 6 finished with value: 0.7265 and parameters: {'C': 0.6101880884888196, 'degree': 2, 'kernel': 'sigmoid', 'gamma': 'scale'}. Best is trial 5 with value: 0.7755.\n",
      "[I 2025-06-01 16:17:36,856] Trial 7 finished with value: 0.7315 and parameters: {'C': 0.43562685510376686, 'degree': 2, 'kernel': 'sigmoid', 'gamma': 'scale'}. Best is trial 5 with value: 0.7755.\n",
      "[I 2025-06-01 16:17:37,224] Trial 8 finished with value: 0.562 and parameters: {'C': 0.311276483619931, 'degree': 10, 'kernel': 'poly', 'gamma': 'scale'}. Best is trial 5 with value: 0.7755.\n",
      "[I 2025-06-01 16:17:37,580] Trial 9 finished with value: 0.792 and parameters: {'C': 0.8103886348882811, 'degree': 8, 'kernel': 'rbf', 'gamma': 'scale'}. Best is trial 9 with value: 0.792.\n",
      "[I 2025-06-01 16:17:37,924] Trial 10 finished with value: 0.7925 and parameters: {'C': 0.999690551085025, 'degree': 10, 'kernel': 'rbf', 'gamma': 'auto'}. Best is trial 10 with value: 0.7925.\n",
      "[I 2025-06-01 16:17:38,269] Trial 11 finished with value: 0.792 and parameters: {'C': 0.9908470500546692, 'degree': 10, 'kernel': 'rbf', 'gamma': 'auto'}. Best is trial 10 with value: 0.7925.\n",
      "[I 2025-06-01 16:17:38,610] Trial 12 finished with value: 0.791 and parameters: {'C': 0.9799583584448225, 'degree': 8, 'kernel': 'rbf', 'gamma': 'auto'}. Best is trial 10 with value: 0.7925.\n",
      "[I 2025-06-01 16:17:38,952] Trial 13 finished with value: 0.791 and parameters: {'C': 0.8271070826637401, 'degree': 9, 'kernel': 'rbf', 'gamma': 'auto'}. Best is trial 10 with value: 0.7925.\n",
      "[I 2025-06-01 16:17:39,283] Trial 14 finished with value: 0.792 and parameters: {'C': 0.8522776555095513, 'degree': 8, 'kernel': 'rbf', 'gamma': 'auto'}. Best is trial 10 with value: 0.7925.\n",
      "[I 2025-06-01 16:17:39,520] Trial 15 finished with value: 0.737 and parameters: {'C': 0.002008910748663606, 'degree': 4, 'kernel': 'linear', 'gamma': 'auto'}. Best is trial 10 with value: 0.7925.\n",
      "[I 2025-06-01 16:17:39,860] Trial 16 finished with value: 0.792 and parameters: {'C': 0.8485600698189553, 'degree': 9, 'kernel': 'rbf', 'gamma': 'auto'}. Best is trial 10 with value: 0.7925.\n",
      "[I 2025-06-01 16:17:40,204] Trial 17 finished with value: 0.7915 and parameters: {'C': 0.6976083919756689, 'degree': 8, 'kernel': 'rbf', 'gamma': 'scale'}. Best is trial 10 with value: 0.7925.\n",
      "[I 2025-06-01 16:17:40,542] Trial 18 finished with value: 0.7925 and parameters: {'C': 0.9186830107992501, 'degree': 10, 'kernel': 'rbf', 'gamma': 'auto'}. Best is trial 10 with value: 0.7925.\n",
      "[I 2025-06-01 16:17:40,951] Trial 19 finished with value: 0.7485 and parameters: {'C': 0.9288680603832434, 'degree': 10, 'kernel': 'linear', 'gamma': 'auto'}. Best is trial 10 with value: 0.7925.\n",
      "[I 2025-06-01 16:17:41,307] Trial 20 finished with value: 0.7925 and parameters: {'C': 0.90847587077894, 'degree': 9, 'kernel': 'rbf', 'gamma': 'auto'}. Best is trial 10 with value: 0.7925.\n",
      "[I 2025-06-01 16:17:41,645] Trial 21 finished with value: 0.7925 and parameters: {'C': 0.9277270681160872, 'degree': 9, 'kernel': 'rbf', 'gamma': 'auto'}. Best is trial 10 with value: 0.7925.\n",
      "[I 2025-06-01 16:17:41,983] Trial 22 finished with value: 0.7925 and parameters: {'C': 0.9103204308224487, 'degree': 10, 'kernel': 'rbf', 'gamma': 'auto'}. Best is trial 10 with value: 0.7925.\n",
      "[I 2025-06-01 16:17:42,328] Trial 23 finished with value: 0.7925 and parameters: {'C': 0.998087552903338, 'degree': 9, 'kernel': 'rbf', 'gamma': 'auto'}. Best is trial 10 with value: 0.7925.\n",
      "[I 2025-06-01 16:17:42,687] Trial 24 finished with value: 0.7895 and parameters: {'C': 0.6496808516712913, 'degree': 7, 'kernel': 'rbf', 'gamma': 'auto'}. Best is trial 10 with value: 0.7925.\n",
      "[I 2025-06-01 16:17:43,025] Trial 25 finished with value: 0.7915 and parameters: {'C': 0.7871550960086923, 'degree': 10, 'kernel': 'rbf', 'gamma': 'auto'}. Best is trial 10 with value: 0.7925.\n",
      "[I 2025-06-01 16:17:43,378] Trial 26 finished with value: 0.792 and parameters: {'C': 0.8990935550258988, 'degree': 4, 'kernel': 'rbf', 'gamma': 'auto'}. Best is trial 10 with value: 0.7925.\n",
      "[I 2025-06-01 16:17:43,767] Trial 27 finished with value: 0.749 and parameters: {'C': 0.7512956339402197, 'degree': 9, 'kernel': 'linear', 'gamma': 'auto'}. Best is trial 10 with value: 0.7925.\n",
      "[I 2025-06-01 16:17:44,165] Trial 28 finished with value: 0.738 and parameters: {'C': 0.09272574316100735, 'degree': 7, 'kernel': 'sigmoid', 'gamma': 'auto'}. Best is trial 10 with value: 0.7925.\n",
      "[I 2025-06-01 16:17:44,402] Trial 29 finished with value: 0.7465 and parameters: {'C': 0.40782167639327216, 'degree': 1, 'kernel': 'poly', 'gamma': 'auto'}. Best is trial 10 with value: 0.7925.\n",
      "[I 2025-06-01 16:17:44,740] Trial 30 finished with value: 0.789 and parameters: {'C': 0.5730148237557576, 'degree': 10, 'kernel': 'rbf', 'gamma': 'auto'}. Best is trial 10 with value: 0.7925.\n",
      "[I 2025-06-01 16:17:45,090] Trial 31 finished with value: 0.7925 and parameters: {'C': 0.9134376367790317, 'degree': 9, 'kernel': 'rbf', 'gamma': 'auto'}. Best is trial 10 with value: 0.7925.\n",
      "[I 2025-06-01 16:17:45,444] Trial 32 finished with value: 0.7905 and parameters: {'C': 0.8815910440485004, 'degree': 9, 'kernel': 'rbf', 'gamma': 'auto'}. Best is trial 10 with value: 0.7925.\n",
      "[I 2025-06-01 16:17:45,793] Trial 33 finished with value: 0.7915 and parameters: {'C': 0.9537840738852947, 'degree': 8, 'kernel': 'rbf', 'gamma': 'auto'}. Best is trial 10 with value: 0.7925.\n",
      "[I 2025-06-01 16:17:46,167] Trial 34 finished with value: 0.7905 and parameters: {'C': 0.6797853488818065, 'degree': 9, 'kernel': 'rbf', 'gamma': 'auto'}. Best is trial 10 with value: 0.7925.\n",
      "[I 2025-06-01 16:17:46,557] Trial 35 finished with value: 0.6135 and parameters: {'C': 0.7770612463351563, 'degree': 7, 'kernel': 'poly', 'gamma': 'auto'}. Best is trial 10 with value: 0.7925.\n",
      "[I 2025-06-01 16:17:46,926] Trial 36 finished with value: 0.7055 and parameters: {'C': 0.9454510177262861, 'degree': 10, 'kernel': 'sigmoid', 'gamma': 'auto'}. Best is trial 10 with value: 0.7925.\n",
      "[I 2025-06-01 16:17:47,347] Trial 37 finished with value: 0.7925 and parameters: {'C': 0.8650130388965667, 'degree': 5, 'kernel': 'rbf', 'gamma': 'auto'}. Best is trial 10 with value: 0.7925.\n",
      "[I 2025-06-01 16:17:47,792] Trial 38 finished with value: 0.749 and parameters: {'C': 0.5192463417343801, 'degree': 8, 'kernel': 'linear', 'gamma': 'auto'}. Best is trial 10 with value: 0.7925.\n",
      "[I 2025-06-01 16:17:48,194] Trial 39 finished with value: 0.6195 and parameters: {'C': 0.736348812234398, 'degree': 6, 'kernel': 'poly', 'gamma': 'scale'}. Best is trial 10 with value: 0.7925.\n",
      "[I 2025-06-01 16:17:48,605] Trial 40 finished with value: 0.715 and parameters: {'C': 0.8076398466452557, 'degree': 10, 'kernel': 'sigmoid', 'gamma': 'auto'}. Best is trial 10 with value: 0.7925.\n",
      "[I 2025-06-01 16:17:48,984] Trial 41 finished with value: 0.7925 and parameters: {'C': 0.9200346209629148, 'degree': 10, 'kernel': 'rbf', 'gamma': 'auto'}. Best is trial 10 with value: 0.7925.\n",
      "[I 2025-06-01 16:17:49,361] Trial 42 finished with value: 0.7905 and parameters: {'C': 0.8869186277619868, 'degree': 9, 'kernel': 'rbf', 'gamma': 'auto'}. Best is trial 10 with value: 0.7925.\n",
      "[I 2025-06-01 16:17:49,806] Trial 43 finished with value: 0.7915 and parameters: {'C': 0.9485220548082307, 'degree': 10, 'kernel': 'rbf', 'gamma': 'auto'}. Best is trial 10 with value: 0.7925.\n",
      "[I 2025-06-01 16:17:50,175] Trial 44 finished with value: 0.7925 and parameters: {'C': 0.9951417421797761, 'degree': 9, 'kernel': 'rbf', 'gamma': 'auto'}. Best is trial 10 with value: 0.7925.\n",
      "[I 2025-06-01 16:17:50,572] Trial 45 finished with value: 0.792 and parameters: {'C': 0.8482032116381077, 'degree': 10, 'kernel': 'rbf', 'gamma': 'scale'}. Best is trial 10 with value: 0.7925.\n",
      "[I 2025-06-01 16:17:51,023] Trial 46 finished with value: 0.791 and parameters: {'C': 0.950448718742781, 'degree': 10, 'kernel': 'rbf', 'gamma': 'auto'}. Best is trial 10 with value: 0.7925.\n",
      "[I 2025-06-01 16:17:51,454] Trial 47 finished with value: 0.791 and parameters: {'C': 0.8175721989778207, 'degree': 8, 'kernel': 'rbf', 'gamma': 'auto'}. Best is trial 10 with value: 0.7925.\n",
      "[I 2025-06-01 16:17:51,803] Trial 48 finished with value: 0.7905 and parameters: {'C': 0.8863060518311592, 'degree': 3, 'kernel': 'rbf', 'gamma': 'scale'}. Best is trial 10 with value: 0.7925.\n",
      "[I 2025-06-01 16:17:52,166] Trial 49 finished with value: 0.78 and parameters: {'C': 0.3759718012753751, 'degree': 9, 'kernel': 'rbf', 'gamma': 'auto'}. Best is trial 10 with value: 0.7925.\n",
      "[I 2025-06-01 16:17:52,562] Trial 50 finished with value: 0.565 and parameters: {'C': 0.16192185868109044, 'degree': 8, 'kernel': 'poly', 'gamma': 'auto'}. Best is trial 10 with value: 0.7925.\n",
      "[I 2025-06-01 16:17:53,028] Trial 51 finished with value: 0.792 and parameters: {'C': 0.9915859432566955, 'degree': 9, 'kernel': 'rbf', 'gamma': 'auto'}. Best is trial 10 with value: 0.7925.\n",
      "[I 2025-06-01 16:17:53,417] Trial 52 finished with value: 0.7925 and parameters: {'C': 0.9948372156195491, 'degree': 9, 'kernel': 'rbf', 'gamma': 'auto'}. Best is trial 10 with value: 0.7925.\n",
      "[I 2025-06-01 16:17:53,799] Trial 53 finished with value: 0.791 and parameters: {'C': 0.952794326648601, 'degree': 10, 'kernel': 'rbf', 'gamma': 'auto'}. Best is trial 10 with value: 0.7925.\n",
      "[I 2025-06-01 16:17:54,166] Trial 54 finished with value: 0.7925 and parameters: {'C': 0.9185577662648757, 'degree': 9, 'kernel': 'rbf', 'gamma': 'auto'}. Best is trial 10 with value: 0.7925.\n",
      "[I 2025-06-01 16:17:54,609] Trial 55 finished with value: 0.749 and parameters: {'C': 0.851359661973021, 'degree': 7, 'kernel': 'linear', 'gamma': 'auto'}. Best is trial 10 with value: 0.7925.\n",
      "[I 2025-06-01 16:17:54,969] Trial 56 finished with value: 0.791 and parameters: {'C': 0.9733363175199368, 'degree': 10, 'kernel': 'rbf', 'gamma': 'auto'}. Best is trial 10 with value: 0.7925.\n",
      "[I 2025-06-01 16:17:55,402] Trial 57 finished with value: 0.714 and parameters: {'C': 0.7631701766571996, 'degree': 8, 'kernel': 'sigmoid', 'gamma': 'scale'}. Best is trial 10 with value: 0.7925.\n",
      "[I 2025-06-01 16:17:55,800] Trial 58 finished with value: 0.7925 and parameters: {'C': 0.9129938365272877, 'degree': 10, 'kernel': 'rbf', 'gamma': 'auto'}. Best is trial 10 with value: 0.7925.\n",
      "[I 2025-06-01 16:17:56,219] Trial 59 finished with value: 0.791 and parameters: {'C': 0.705089435863367, 'degree': 9, 'kernel': 'rbf', 'gamma': 'auto'}. Best is trial 10 with value: 0.7925.\n",
      "[I 2025-06-01 16:17:56,603] Trial 60 finished with value: 0.791 and parameters: {'C': 0.8243403889378533, 'degree': 8, 'kernel': 'rbf', 'gamma': 'auto'}. Best is trial 10 with value: 0.7925.\n",
      "[I 2025-06-01 16:17:56,935] Trial 61 finished with value: 0.7925 and parameters: {'C': 0.9156009403896422, 'degree': 9, 'kernel': 'rbf', 'gamma': 'auto'}. Best is trial 10 with value: 0.7925.\n",
      "[I 2025-06-01 16:17:57,308] Trial 62 finished with value: 0.7905 and parameters: {'C': 0.8843064222973375, 'degree': 9, 'kernel': 'rbf', 'gamma': 'auto'}. Best is trial 10 with value: 0.7925.\n",
      "[I 2025-06-01 16:17:57,720] Trial 63 finished with value: 0.7915 and parameters: {'C': 0.9646229790456536, 'degree': 10, 'kernel': 'rbf', 'gamma': 'auto'}. Best is trial 10 with value: 0.7925.\n",
      "[I 2025-06-01 16:17:58,065] Trial 64 finished with value: 0.7915 and parameters: {'C': 0.7913941219035694, 'degree': 9, 'kernel': 'rbf', 'gamma': 'auto'}. Best is trial 10 with value: 0.7925.\n",
      "[I 2025-06-01 16:17:58,424] Trial 65 finished with value: 0.7925 and parameters: {'C': 0.9188835982217028, 'degree': 10, 'kernel': 'rbf', 'gamma': 'auto'}. Best is trial 10 with value: 0.7925.\n",
      "[I 2025-06-01 16:17:58,852] Trial 66 finished with value: 0.749 and parameters: {'C': 0.8540837290792356, 'degree': 9, 'kernel': 'linear', 'gamma': 'auto'}. Best is trial 10 with value: 0.7925.\n",
      "[I 2025-06-01 16:17:59,197] Trial 67 finished with value: 0.791 and parameters: {'C': 0.9681654189598171, 'degree': 10, 'kernel': 'rbf', 'gamma': 'auto'}. Best is trial 10 with value: 0.7925.\n",
      "[I 2025-06-01 16:17:59,569] Trial 68 finished with value: 0.62 and parameters: {'C': 0.9327640977369802, 'degree': 6, 'kernel': 'poly', 'gamma': 'auto'}. Best is trial 10 with value: 0.7925.\n",
      "[I 2025-06-01 16:17:59,937] Trial 69 finished with value: 0.7035 and parameters: {'C': 0.9988927999185079, 'degree': 8, 'kernel': 'sigmoid', 'gamma': 'scale'}. Best is trial 10 with value: 0.7925.\n",
      "[I 2025-06-01 16:18:00,282] Trial 70 finished with value: 0.789 and parameters: {'C': 0.6035419961079747, 'degree': 4, 'kernel': 'rbf', 'gamma': 'auto'}. Best is trial 10 with value: 0.7925.\n",
      "[I 2025-06-01 16:18:00,626] Trial 71 finished with value: 0.792 and parameters: {'C': 0.8680439465547225, 'degree': 5, 'kernel': 'rbf', 'gamma': 'auto'}. Best is trial 10 with value: 0.7925.\n",
      "[I 2025-06-01 16:18:01,085] Trial 72 finished with value: 0.7915 and parameters: {'C': 0.8919312253115796, 'degree': 5, 'kernel': 'rbf', 'gamma': 'auto'}. Best is trial 10 with value: 0.7925.\n",
      "[I 2025-06-01 16:18:01,521] Trial 73 finished with value: 0.792 and parameters: {'C': 0.8403743687983788, 'degree': 5, 'kernel': 'rbf', 'gamma': 'auto'}. Best is trial 10 with value: 0.7925.\n",
      "[I 2025-06-01 16:18:01,957] Trial 74 finished with value: 0.792 and parameters: {'C': 0.9419854283238793, 'degree': 4, 'kernel': 'rbf', 'gamma': 'auto'}. Best is trial 10 with value: 0.7925.\n",
      "[I 2025-06-01 16:18:02,319] Trial 75 finished with value: 0.792 and parameters: {'C': 0.8685545824070988, 'degree': 10, 'kernel': 'rbf', 'gamma': 'auto'}. Best is trial 10 with value: 0.7925.\n",
      "[I 2025-06-01 16:18:02,684] Trial 76 finished with value: 0.7915 and parameters: {'C': 0.8949519983549187, 'degree': 3, 'kernel': 'rbf', 'gamma': 'auto'}. Best is trial 10 with value: 0.7925.\n",
      "[I 2025-06-01 16:18:03,035] Trial 77 finished with value: 0.791 and parameters: {'C': 0.9671143222253965, 'degree': 7, 'kernel': 'rbf', 'gamma': 'auto'}. Best is trial 10 with value: 0.7925.\n",
      "[I 2025-06-01 16:18:03,379] Trial 78 finished with value: 0.791 and parameters: {'C': 0.8214563722257153, 'degree': 9, 'kernel': 'rbf', 'gamma': 'auto'}. Best is trial 10 with value: 0.7925.\n",
      "[I 2025-06-01 16:18:03,725] Trial 79 finished with value: 0.748 and parameters: {'C': 0.4635352491069895, 'degree': 10, 'kernel': 'linear', 'gamma': 'auto'}. Best is trial 10 with value: 0.7925.\n",
      "[I 2025-06-01 16:18:04,088] Trial 80 finished with value: 0.7915 and parameters: {'C': 0.797964528531357, 'degree': 9, 'kernel': 'rbf', 'gamma': 'scale'}. Best is trial 10 with value: 0.7925.\n",
      "[I 2025-06-01 16:18:04,458] Trial 81 finished with value: 0.792 and parameters: {'C': 0.9393243120921498, 'degree': 10, 'kernel': 'rbf', 'gamma': 'auto'}. Best is trial 10 with value: 0.7925.\n",
      "[I 2025-06-01 16:18:04,812] Trial 82 finished with value: 0.792 and parameters: {'C': 0.8997944306799113, 'degree': 10, 'kernel': 'rbf', 'gamma': 'auto'}. Best is trial 10 with value: 0.7925.\n",
      "[I 2025-06-01 16:18:05,171] Trial 83 finished with value: 0.7925 and parameters: {'C': 0.9264844530951266, 'degree': 10, 'kernel': 'rbf', 'gamma': 'auto'}. Best is trial 10 with value: 0.7925.\n",
      "[I 2025-06-01 16:18:05,520] Trial 84 finished with value: 0.791 and parameters: {'C': 0.9748936733917886, 'degree': 9, 'kernel': 'rbf', 'gamma': 'auto'}. Best is trial 10 with value: 0.7925.\n",
      "[I 2025-06-01 16:18:05,879] Trial 85 finished with value: 0.6705 and parameters: {'C': 0.2447941165961678, 'degree': 5, 'kernel': 'poly', 'gamma': 'auto'}. Best is trial 10 with value: 0.7925.\n",
      "[I 2025-06-01 16:18:06,221] Trial 86 finished with value: 0.7915 and parameters: {'C': 0.8712623477089382, 'degree': 10, 'kernel': 'rbf', 'gamma': 'auto'}. Best is trial 10 with value: 0.7925.\n",
      "[I 2025-06-01 16:18:06,591] Trial 87 finished with value: 0.702 and parameters: {'C': 0.9118807998899771, 'degree': 1, 'kernel': 'sigmoid', 'gamma': 'auto'}. Best is trial 10 with value: 0.7925.\n",
      "[I 2025-06-01 16:18:06,942] Trial 88 finished with value: 0.791 and parameters: {'C': 0.9820709255963197, 'degree': 6, 'kernel': 'rbf', 'gamma': 'auto'}. Best is trial 10 with value: 0.7925.\n",
      "[I 2025-06-01 16:18:07,314] Trial 89 finished with value: 0.791 and parameters: {'C': 0.9525200571237832, 'degree': 9, 'kernel': 'rbf', 'gamma': 'auto'}. Best is trial 10 with value: 0.7925.\n",
      "[I 2025-06-01 16:18:07,699] Trial 90 finished with value: 0.792 and parameters: {'C': 0.8473916352082036, 'degree': 10, 'kernel': 'rbf', 'gamma': 'auto'}. Best is trial 10 with value: 0.7925.\n",
      "[I 2025-06-01 16:18:08,099] Trial 91 finished with value: 0.7925 and parameters: {'C': 0.9959287145643286, 'degree': 9, 'kernel': 'rbf', 'gamma': 'auto'}. Best is trial 10 with value: 0.7925.\n",
      "[I 2025-06-01 16:18:08,446] Trial 92 finished with value: 0.792 and parameters: {'C': 0.9406674933474041, 'degree': 8, 'kernel': 'rbf', 'gamma': 'auto'}. Best is trial 10 with value: 0.7925.\n",
      "[I 2025-06-01 16:18:08,783] Trial 93 finished with value: 0.791 and parameters: {'C': 0.9711297006693324, 'degree': 9, 'kernel': 'rbf', 'gamma': 'auto'}. Best is trial 10 with value: 0.7925.\n",
      "[I 2025-06-01 16:18:09,142] Trial 94 finished with value: 0.7925 and parameters: {'C': 0.906760744506482, 'degree': 8, 'kernel': 'rbf', 'gamma': 'auto'}. Best is trial 10 with value: 0.7925.\n",
      "[I 2025-06-01 16:18:09,552] Trial 95 finished with value: 0.7925 and parameters: {'C': 0.9297106710060453, 'degree': 9, 'kernel': 'rbf', 'gamma': 'auto'}. Best is trial 10 with value: 0.7925.\n",
      "[I 2025-06-01 16:18:09,932] Trial 96 finished with value: 0.792 and parameters: {'C': 0.9932593697448654, 'degree': 10, 'kernel': 'rbf', 'gamma': 'auto'}. Best is trial 10 with value: 0.7925.\n",
      "[I 2025-06-01 16:18:10,428] Trial 97 finished with value: 0.7925 and parameters: {'C': 0.8653091121861181, 'degree': 10, 'kernel': 'rbf', 'gamma': 'scale'}. Best is trial 10 with value: 0.7925.\n",
      "[I 2025-06-01 16:18:10,912] Trial 98 finished with value: 0.749 and parameters: {'C': 0.9589320031161446, 'degree': 9, 'kernel': 'linear', 'gamma': 'auto'}. Best is trial 10 with value: 0.7925.\n",
      "[I 2025-06-01 16:18:11,338] Trial 99 finished with value: 0.7915 and parameters: {'C': 0.8934210845838463, 'degree': 9, 'kernel': 'rbf', 'gamma': 'auto'}. Best is trial 10 with value: 0.7925.\n",
      "[I 2025-06-01 16:18:11,725] Trial 100 finished with value: 0.564 and parameters: {'C': 0.9989574685955339, 'degree': 10, 'kernel': 'poly', 'gamma': 'auto'}. Best is trial 10 with value: 0.7925.\n",
      "[I 2025-06-01 16:18:12,115] Trial 101 finished with value: 0.791 and parameters: {'C': 0.9741546279786952, 'degree': 9, 'kernel': 'rbf', 'gamma': 'auto'}. Best is trial 10 with value: 0.7925.\n",
      "[I 2025-06-01 16:18:12,489] Trial 102 finished with value: 0.7925 and parameters: {'C': 0.9245710831488435, 'degree': 8, 'kernel': 'rbf', 'gamma': 'auto'}. Best is trial 10 with value: 0.7925.\n",
      "[I 2025-06-01 16:18:12,872] Trial 103 finished with value: 0.7915 and parameters: {'C': 0.9541868074866624, 'degree': 9, 'kernel': 'rbf', 'gamma': 'auto'}. Best is trial 10 with value: 0.7925.\n",
      "[I 2025-06-01 16:18:13,218] Trial 104 finished with value: 0.791 and parameters: {'C': 0.982033158326099, 'degree': 9, 'kernel': 'rbf', 'gamma': 'auto'}. Best is trial 10 with value: 0.7925.\n",
      "[I 2025-06-01 16:18:13,589] Trial 105 finished with value: 0.792 and parameters: {'C': 0.8388665517439452, 'degree': 10, 'kernel': 'rbf', 'gamma': 'auto'}. Best is trial 10 with value: 0.7925.\n",
      "[I 2025-06-01 16:18:13,965] Trial 106 finished with value: 0.7065 and parameters: {'C': 0.9054360229907366, 'degree': 9, 'kernel': 'sigmoid', 'gamma': 'auto'}. Best is trial 10 with value: 0.7925.\n",
      "[I 2025-06-01 16:18:14,438] Trial 107 finished with value: 0.5875 and parameters: {'C': 0.017981706396726138, 'degree': 10, 'kernel': 'rbf', 'gamma': 'auto'}. Best is trial 10 with value: 0.7925.\n",
      "[I 2025-06-01 16:18:14,801] Trial 108 finished with value: 0.7905 and parameters: {'C': 0.8790776470583317, 'degree': 9, 'kernel': 'rbf', 'gamma': 'auto'}. Best is trial 10 with value: 0.7925.\n",
      "[I 2025-06-01 16:18:15,172] Trial 109 finished with value: 0.7925 and parameters: {'C': 0.9335625541052701, 'degree': 10, 'kernel': 'rbf', 'gamma': 'auto'}. Best is trial 10 with value: 0.7925.\n",
      "[I 2025-06-01 16:18:15,547] Trial 110 finished with value: 0.79 and parameters: {'C': 0.6540210735405902, 'degree': 8, 'kernel': 'rbf', 'gamma': 'scale'}. Best is trial 10 with value: 0.7925.\n",
      "[I 2025-06-01 16:18:15,884] Trial 111 finished with value: 0.7925 and parameters: {'C': 0.9169703450826356, 'degree': 9, 'kernel': 'rbf', 'gamma': 'auto'}. Best is trial 10 with value: 0.7925.\n",
      "[I 2025-06-01 16:18:16,276] Trial 112 finished with value: 0.792 and parameters: {'C': 0.9474516563478002, 'degree': 9, 'kernel': 'rbf', 'gamma': 'auto'}. Best is trial 10 with value: 0.7925.\n",
      "[I 2025-06-01 16:18:16,648] Trial 113 finished with value: 0.7925 and parameters: {'C': 0.9989895394520102, 'degree': 10, 'kernel': 'rbf', 'gamma': 'auto'}. Best is trial 10 with value: 0.7925.\n",
      "[I 2025-06-01 16:18:17,014] Trial 114 finished with value: 0.7915 and parameters: {'C': 0.957645515756582, 'degree': 5, 'kernel': 'rbf', 'gamma': 'auto'}. Best is trial 10 with value: 0.7925.\n",
      "[I 2025-06-01 16:18:17,377] Trial 115 finished with value: 0.7905 and parameters: {'C': 0.8839783823354418, 'degree': 8, 'kernel': 'rbf', 'gamma': 'auto'}. Best is trial 10 with value: 0.7925.\n",
      "[I 2025-06-01 16:18:17,736] Trial 116 finished with value: 0.7925 and parameters: {'C': 0.9176772038876553, 'degree': 9, 'kernel': 'rbf', 'gamma': 'auto'}. Best is trial 10 with value: 0.7925.\n",
      "[I 2025-06-01 16:18:18,082] Trial 117 finished with value: 0.791 and parameters: {'C': 0.9788535847845803, 'degree': 10, 'kernel': 'rbf', 'gamma': 'auto'}. Best is trial 10 with value: 0.7925.\n",
      "[I 2025-06-01 16:18:18,508] Trial 118 finished with value: 0.749 and parameters: {'C': 0.9334803824638542, 'degree': 9, 'kernel': 'linear', 'gamma': 'auto'}. Best is trial 10 with value: 0.7925.\n",
      "[I 2025-06-01 16:18:18,850] Trial 119 finished with value: 0.787 and parameters: {'C': 0.5471853039495621, 'degree': 10, 'kernel': 'rbf', 'gamma': 'auto'}. Best is trial 10 with value: 0.7925.\n",
      "[I 2025-06-01 16:18:19,190] Trial 120 finished with value: 0.7915 and parameters: {'C': 0.7700796667540478, 'degree': 9, 'kernel': 'rbf', 'gamma': 'auto'}. Best is trial 10 with value: 0.7925.\n",
      "[I 2025-06-01 16:18:19,537] Trial 121 finished with value: 0.7925 and parameters: {'C': 0.905803142935009, 'degree': 10, 'kernel': 'rbf', 'gamma': 'auto'}. Best is trial 10 with value: 0.7925.\n",
      "[I 2025-06-01 16:18:19,881] Trial 122 finished with value: 0.7915 and parameters: {'C': 0.871140634583814, 'degree': 10, 'kernel': 'rbf', 'gamma': 'auto'}. Best is trial 10 with value: 0.7925.\n",
      "[I 2025-06-01 16:18:20,247] Trial 123 finished with value: 0.7915 and parameters: {'C': 0.9580562775587824, 'degree': 10, 'kernel': 'rbf', 'gamma': 'auto'}. Best is trial 10 with value: 0.7925.\n",
      "[I 2025-06-01 16:18:20,598] Trial 124 finished with value: 0.7915 and parameters: {'C': 0.8986030747780548, 'degree': 9, 'kernel': 'rbf', 'gamma': 'auto'}. Best is trial 10 with value: 0.7925.\n",
      "[I 2025-06-01 16:18:20,950] Trial 125 finished with value: 0.791 and parameters: {'C': 0.8257072001646896, 'degree': 10, 'kernel': 'rbf', 'gamma': 'auto'}. Best is trial 10 with value: 0.7925.\n",
      "[I 2025-06-01 16:18:21,310] Trial 126 finished with value: 0.7485 and parameters: {'C': 0.9771979889795069, 'degree': 5, 'kernel': 'poly', 'gamma': 'auto'}. Best is trial 10 with value: 0.7925.\n",
      "[I 2025-06-01 16:18:21,701] Trial 127 finished with value: 0.7805 and parameters: {'C': 0.3486364810860956, 'degree': 10, 'kernel': 'rbf', 'gamma': 'auto'}. Best is trial 10 with value: 0.7925.\n",
      "[I 2025-06-01 16:18:22,089] Trial 128 finished with value: 0.7095 and parameters: {'C': 0.8611469360290045, 'degree': 9, 'kernel': 'sigmoid', 'gamma': 'auto'}. Best is trial 10 with value: 0.7925.\n",
      "[I 2025-06-01 16:18:22,467] Trial 129 finished with value: 0.7925 and parameters: {'C': 0.9266837346725523, 'degree': 8, 'kernel': 'rbf', 'gamma': 'scale'}. Best is trial 10 with value: 0.7925.\n",
      "[I 2025-06-01 16:18:22,846] Trial 130 finished with value: 0.792 and parameters: {'C': 0.9382644229177748, 'degree': 6, 'kernel': 'rbf', 'gamma': 'auto'}. Best is trial 10 with value: 0.7925.\n",
      "[I 2025-06-01 16:18:23,205] Trial 131 finished with value: 0.7925 and parameters: {'C': 0.9156651347651982, 'degree': 9, 'kernel': 'rbf', 'gamma': 'auto'}. Best is trial 10 with value: 0.7925.\n",
      "[I 2025-06-01 16:18:23,558] Trial 132 finished with value: 0.7915 and parameters: {'C': 0.8960889526907384, 'degree': 9, 'kernel': 'rbf', 'gamma': 'auto'}. Best is trial 10 with value: 0.7925.\n",
      "[I 2025-06-01 16:18:23,903] Trial 133 finished with value: 0.7915 and parameters: {'C': 0.9641002808780106, 'degree': 9, 'kernel': 'rbf', 'gamma': 'auto'}. Best is trial 10 with value: 0.7925.\n",
      "[I 2025-06-01 16:18:24,281] Trial 134 finished with value: 0.792 and parameters: {'C': 0.9459518764447871, 'degree': 10, 'kernel': 'rbf', 'gamma': 'auto'}. Best is trial 10 with value: 0.7925.\n",
      "[I 2025-06-01 16:18:24,650] Trial 135 finished with value: 0.791 and parameters: {'C': 0.980359840404062, 'degree': 9, 'kernel': 'rbf', 'gamma': 'auto'}. Best is trial 10 with value: 0.7925.\n",
      "[I 2025-06-01 16:18:25,008] Trial 136 finished with value: 0.792 and parameters: {'C': 0.8419761840477242, 'degree': 10, 'kernel': 'rbf', 'gamma': 'auto'}. Best is trial 10 with value: 0.7925.\n",
      "[I 2025-06-01 16:18:25,385] Trial 137 finished with value: 0.7915 and parameters: {'C': 0.8078280348063294, 'degree': 8, 'kernel': 'rbf', 'gamma': 'auto'}. Best is trial 10 with value: 0.7925.\n",
      "[I 2025-06-01 16:18:25,757] Trial 138 finished with value: 0.7905 and parameters: {'C': 0.8815483402619041, 'degree': 9, 'kernel': 'rbf', 'gamma': 'auto'}. Best is trial 10 with value: 0.7925.\n",
      "[I 2025-06-01 16:18:26,128] Trial 139 finished with value: 0.7925 and parameters: {'C': 0.9154580591938383, 'degree': 3, 'kernel': 'rbf', 'gamma': 'auto'}. Best is trial 10 with value: 0.7925.\n",
      "[I 2025-06-01 16:18:26,495] Trial 140 finished with value: 0.7925 and parameters: {'C': 0.9993503652717766, 'degree': 4, 'kernel': 'rbf', 'gamma': 'auto'}. Best is trial 10 with value: 0.7925.\n",
      "[I 2025-06-01 16:18:26,849] Trial 141 finished with value: 0.7925 and parameters: {'C': 0.9165539558049185, 'degree': 10, 'kernel': 'rbf', 'gamma': 'auto'}. Best is trial 10 with value: 0.7925.\n",
      "[I 2025-06-01 16:18:27,211] Trial 142 finished with value: 0.792 and parameters: {'C': 0.9401300413263588, 'degree': 10, 'kernel': 'rbf', 'gamma': 'auto'}. Best is trial 10 with value: 0.7925.\n",
      "[I 2025-06-01 16:18:27,592] Trial 143 finished with value: 0.7925 and parameters: {'C': 0.863841441057217, 'degree': 10, 'kernel': 'rbf', 'gamma': 'auto'}. Best is trial 10 with value: 0.7925.\n",
      "[I 2025-06-01 16:18:27,966] Trial 144 finished with value: 0.791 and parameters: {'C': 0.9650136577646824, 'degree': 10, 'kernel': 'rbf', 'gamma': 'auto'}. Best is trial 10 with value: 0.7925.\n",
      "[I 2025-06-01 16:18:28,398] Trial 145 finished with value: 0.749 and parameters: {'C': 0.9235256486675135, 'degree': 9, 'kernel': 'linear', 'gamma': 'auto'}. Best is trial 10 with value: 0.7925.\n",
      "[I 2025-06-01 16:18:28,778] Trial 146 finished with value: 0.7915 and parameters: {'C': 0.892156349781853, 'degree': 9, 'kernel': 'rbf', 'gamma': 'auto'}. Best is trial 10 with value: 0.7925.\n",
      "[I 2025-06-01 16:18:29,247] Trial 147 finished with value: 0.7915 and parameters: {'C': 0.9545735008839757, 'degree': 7, 'kernel': 'rbf', 'gamma': 'auto'}. Best is trial 10 with value: 0.7925.\n",
      "[I 2025-06-01 16:18:29,660] Trial 148 finished with value: 0.564 and parameters: {'C': 0.9054658645009844, 'degree': 10, 'kernel': 'poly', 'gamma': 'auto'}. Best is trial 10 with value: 0.7925.\n",
      "[I 2025-06-01 16:18:30,000] Trial 149 finished with value: 0.791 and parameters: {'C': 0.9826620341444051, 'degree': 9, 'kernel': 'rbf', 'gamma': 'auto'}. Best is trial 10 with value: 0.7925.\n",
      "[I 2025-06-01 16:18:30,341] Trial 150 finished with value: 0.7925 and parameters: {'C': 0.9349909201560357, 'degree': 10, 'kernel': 'rbf', 'gamma': 'scale'}. Best is trial 10 with value: 0.7925.\n",
      "[I 2025-06-01 16:18:30,692] Trial 151 finished with value: 0.7925 and parameters: {'C': 0.9245230845796906, 'degree': 10, 'kernel': 'rbf', 'gamma': 'auto'}. Best is trial 10 with value: 0.7925.\n",
      "[I 2025-06-01 16:18:31,035] Trial 152 finished with value: 0.7905 and parameters: {'C': 0.8804970616022604, 'degree': 10, 'kernel': 'rbf', 'gamma': 'auto'}. Best is trial 10 with value: 0.7925.\n",
      "[I 2025-06-01 16:18:31,395] Trial 153 finished with value: 0.7915 and parameters: {'C': 0.9649356739419572, 'degree': 10, 'kernel': 'rbf', 'gamma': 'auto'}. Best is trial 10 with value: 0.7925.\n",
      "[I 2025-06-01 16:18:31,752] Trial 154 finished with value: 0.7925 and parameters: {'C': 0.9032096470921408, 'degree': 9, 'kernel': 'rbf', 'gamma': 'auto'}. Best is trial 10 with value: 0.7925.\n",
      "[I 2025-06-01 16:18:32,185] Trial 155 finished with value: 0.792 and parameters: {'C': 0.9453342640681162, 'degree': 10, 'kernel': 'rbf', 'gamma': 'auto'}. Best is trial 10 with value: 0.7925.\n",
      "[I 2025-06-01 16:18:32,568] Trial 156 finished with value: 0.71 and parameters: {'C': 0.8548362541849256, 'degree': 10, 'kernel': 'sigmoid', 'gamma': 'auto'}. Best is trial 10 with value: 0.7925.\n",
      "[I 2025-06-01 16:18:32,957] Trial 157 finished with value: 0.7925 and parameters: {'C': 0.9976693171140347, 'degree': 9, 'kernel': 'rbf', 'gamma': 'auto'}. Best is trial 10 with value: 0.7925.\n",
      "[I 2025-06-01 16:18:33,320] Trial 158 finished with value: 0.7925 and parameters: {'C': 0.9239732578974142, 'degree': 10, 'kernel': 'rbf', 'gamma': 'auto'}. Best is trial 10 with value: 0.7925.\n",
      "[I 2025-06-01 16:18:33,685] Trial 159 finished with value: 0.791 and parameters: {'C': 0.9799970820435252, 'degree': 9, 'kernel': 'rbf', 'gamma': 'auto'}. Best is trial 10 with value: 0.7925.\n",
      "[I 2025-06-01 16:18:34,057] Trial 160 finished with value: 0.791 and parameters: {'C': 0.8890484390865316, 'degree': 9, 'kernel': 'rbf', 'gamma': 'auto'}. Best is trial 10 with value: 0.7925.\n",
      "[I 2025-06-01 16:18:34,431] Trial 161 finished with value: 0.7915 and parameters: {'C': 0.959945147365098, 'degree': 9, 'kernel': 'rbf', 'gamma': 'auto'}. Best is trial 10 with value: 0.7925.\n",
      "[I 2025-06-01 16:18:34,811] Trial 162 finished with value: 0.7915 and parameters: {'C': 0.9843136687468133, 'degree': 9, 'kernel': 'rbf', 'gamma': 'auto'}. Best is trial 10 with value: 0.7925.\n",
      "[I 2025-06-01 16:18:35,175] Trial 163 finished with value: 0.792 and parameters: {'C': 0.9405370530404055, 'degree': 9, 'kernel': 'rbf', 'gamma': 'auto'}. Best is trial 10 with value: 0.7925.\n",
      "[I 2025-06-01 16:18:35,530] Trial 164 finished with value: 0.792 and parameters: {'C': 0.9934089529886192, 'degree': 10, 'kernel': 'rbf', 'gamma': 'auto'}. Best is trial 10 with value: 0.7925.\n",
      "[I 2025-06-01 16:18:35,891] Trial 165 finished with value: 0.7925 and parameters: {'C': 0.9990228522787791, 'degree': 9, 'kernel': 'rbf', 'gamma': 'auto'}. Best is trial 10 with value: 0.7925.\n",
      "[I 2025-06-01 16:18:36,251] Trial 166 finished with value: 0.7915 and parameters: {'C': 0.9627175293467253, 'degree': 10, 'kernel': 'rbf', 'gamma': 'auto'}. Best is trial 10 with value: 0.7925.\n",
      "[I 2025-06-01 16:18:36,609] Trial 167 finished with value: 0.7925 and parameters: {'C': 0.9079258141739951, 'degree': 8, 'kernel': 'rbf', 'gamma': 'auto'}. Best is trial 10 with value: 0.7925.\n",
      "[I 2025-06-01 16:18:36,996] Trial 168 finished with value: 0.7925 and parameters: {'C': 0.9283138169792458, 'degree': 5, 'kernel': 'rbf', 'gamma': 'auto'}. Best is trial 10 with value: 0.7925.\n",
      "[I 2025-06-01 16:18:37,366] Trial 169 finished with value: 0.792 and parameters: {'C': 0.9429515804334233, 'degree': 9, 'kernel': 'rbf', 'gamma': 'auto'}. Best is trial 10 with value: 0.7925.\n",
      "[I 2025-06-01 16:18:37,792] Trial 170 finished with value: 0.749 and parameters: {'C': 0.8791571222698848, 'degree': 10, 'kernel': 'linear', 'gamma': 'auto'}. Best is trial 10 with value: 0.7925.\n",
      "[I 2025-06-01 16:18:38,147] Trial 171 finished with value: 0.7925 and parameters: {'C': 0.9097126707188966, 'degree': 8, 'kernel': 'rbf', 'gamma': 'auto'}. Best is trial 10 with value: 0.7925.\n",
      "[I 2025-06-01 16:18:38,500] Trial 172 finished with value: 0.791 and parameters: {'C': 0.9678912106338429, 'degree': 9, 'kernel': 'rbf', 'gamma': 'auto'}. Best is trial 10 with value: 0.7925.\n",
      "[I 2025-06-01 16:18:38,853] Trial 173 finished with value: 0.7915 and parameters: {'C': 0.8979621287826494, 'degree': 9, 'kernel': 'rbf', 'gamma': 'auto'}. Best is trial 10 with value: 0.7925.\n",
      "[I 2025-06-01 16:18:39,252] Trial 174 finished with value: 0.7925 and parameters: {'C': 0.920271296112822, 'degree': 10, 'kernel': 'rbf', 'gamma': 'auto'}. Best is trial 10 with value: 0.7925.\n",
      "[I 2025-06-01 16:18:39,642] Trial 175 finished with value: 0.7925 and parameters: {'C': 0.8649946836699036, 'degree': 8, 'kernel': 'rbf', 'gamma': 'auto'}. Best is trial 10 with value: 0.7925.\n",
      "[I 2025-06-01 16:18:40,080] Trial 176 finished with value: 0.792 and parameters: {'C': 0.8342510239509278, 'degree': 9, 'kernel': 'rbf', 'gamma': 'auto'}. Best is trial 10 with value: 0.7925.\n",
      "[I 2025-06-01 16:18:40,530] Trial 177 finished with value: 0.7915 and parameters: {'C': 0.9485558057242227, 'degree': 10, 'kernel': 'rbf', 'gamma': 'scale'}. Best is trial 10 with value: 0.7925.\n",
      "[I 2025-06-01 16:18:40,980] Trial 178 finished with value: 0.7695 and parameters: {'C': 0.21581861923524115, 'degree': 9, 'kernel': 'rbf', 'gamma': 'auto'}. Best is trial 10 with value: 0.7925.\n",
      "[I 2025-06-01 16:18:41,347] Trial 179 finished with value: 0.791 and parameters: {'C': 0.9779580346327216, 'degree': 10, 'kernel': 'rbf', 'gamma': 'auto'}. Best is trial 10 with value: 0.7925.\n",
      "[I 2025-06-01 16:18:41,722] Trial 180 finished with value: 0.574 and parameters: {'C': 0.9085599143954742, 'degree': 9, 'kernel': 'poly', 'gamma': 'auto'}. Best is trial 10 with value: 0.7925.\n",
      "[I 2025-06-01 16:18:42,089] Trial 181 finished with value: 0.7925 and parameters: {'C': 0.9306847858705386, 'degree': 9, 'kernel': 'rbf', 'gamma': 'auto'}. Best is trial 10 with value: 0.7925.\n",
      "[I 2025-06-01 16:18:42,479] Trial 182 finished with value: 0.7915 and parameters: {'C': 0.955121660130738, 'degree': 9, 'kernel': 'rbf', 'gamma': 'auto'}. Best is trial 10 with value: 0.7925.\n",
      "[I 2025-06-01 16:18:42,849] Trial 183 finished with value: 0.791 and parameters: {'C': 0.8897757613556104, 'degree': 9, 'kernel': 'rbf', 'gamma': 'auto'}. Best is trial 10 with value: 0.7925.\n",
      "[I 2025-06-01 16:18:43,197] Trial 184 finished with value: 0.7925 and parameters: {'C': 0.9279734320001258, 'degree': 10, 'kernel': 'rbf', 'gamma': 'auto'}. Best is trial 10 with value: 0.7925.\n",
      "[I 2025-06-01 16:18:43,580] Trial 185 finished with value: 0.791 and parameters: {'C': 0.9707179815507953, 'degree': 8, 'kernel': 'rbf', 'gamma': 'auto'}. Best is trial 10 with value: 0.7925.\n",
      "[I 2025-06-01 16:18:43,990] Trial 186 finished with value: 0.7915 and parameters: {'C': 0.8714159438559749, 'degree': 9, 'kernel': 'rbf', 'gamma': 'auto'}. Best is trial 10 with value: 0.7925.\n",
      "[I 2025-06-01 16:18:44,395] Trial 187 finished with value: 0.7305 and parameters: {'C': 0.4958182161920672, 'degree': 10, 'kernel': 'sigmoid', 'gamma': 'auto'}. Best is trial 10 with value: 0.7925.\n",
      "[I 2025-06-01 16:18:44,798] Trial 188 finished with value: 0.792 and parameters: {'C': 0.9398549314604736, 'degree': 8, 'kernel': 'rbf', 'gamma': 'auto'}. Best is trial 10 with value: 0.7925.\n",
      "[I 2025-06-01 16:18:45,159] Trial 189 finished with value: 0.7925 and parameters: {'C': 0.9053289337684167, 'degree': 9, 'kernel': 'rbf', 'gamma': 'auto'}. Best is trial 10 with value: 0.7925.\n",
      "[I 2025-06-01 16:18:45,516] Trial 190 finished with value: 0.7925 and parameters: {'C': 0.9233332739581521, 'degree': 10, 'kernel': 'rbf', 'gamma': 'auto'}. Best is trial 10 with value: 0.7925.\n",
      "[I 2025-06-01 16:18:45,894] Trial 191 finished with value: 0.792 and parameters: {'C': 0.8665544269898448, 'degree': 10, 'kernel': 'rbf', 'gamma': 'auto'}. Best is trial 10 with value: 0.7925.\n",
      "[I 2025-06-01 16:18:46,245] Trial 192 finished with value: 0.792 and parameters: {'C': 0.8484895235806496, 'degree': 10, 'kernel': 'rbf', 'gamma': 'scale'}. Best is trial 10 with value: 0.7925.\n",
      "[I 2025-06-01 16:18:46,611] Trial 193 finished with value: 0.792 and parameters: {'C': 0.8993470845442142, 'degree': 10, 'kernel': 'rbf', 'gamma': 'scale'}. Best is trial 10 with value: 0.7925.\n",
      "[I 2025-06-01 16:18:46,951] Trial 194 finished with value: 0.7925 and parameters: {'C': 0.9975691421343226, 'degree': 9, 'kernel': 'rbf', 'gamma': 'scale'}. Best is trial 10 with value: 0.7925.\n",
      "[I 2025-06-01 16:18:47,296] Trial 195 finished with value: 0.7905 and parameters: {'C': 0.8821285612728078, 'degree': 10, 'kernel': 'rbf', 'gamma': 'scale'}. Best is trial 10 with value: 0.7925.\n",
      "[I 2025-06-01 16:18:47,660] Trial 196 finished with value: 0.791 and parameters: {'C': 0.9517171260738169, 'degree': 10, 'kernel': 'rbf', 'gamma': 'scale'}. Best is trial 10 with value: 0.7925.\n",
      "[I 2025-06-01 16:18:48,016] Trial 197 finished with value: 0.791 and parameters: {'C': 0.7284339285144333, 'degree': 9, 'kernel': 'rbf', 'gamma': 'auto'}. Best is trial 10 with value: 0.7925.\n",
      "[I 2025-06-01 16:18:48,362] Trial 198 finished with value: 0.7925 and parameters: {'C': 0.9232169138786759, 'degree': 4, 'kernel': 'rbf', 'gamma': 'auto'}. Best is trial 10 with value: 0.7925.\n",
      "[I 2025-06-01 16:18:48,724] Trial 199 finished with value: 0.791 and parameters: {'C': 0.9756695858069179, 'degree': 5, 'kernel': 'rbf', 'gamma': 'auto'}. Best is trial 10 with value: 0.7925.\n",
      "[I 2025-06-01 16:18:49,067] Trial 200 finished with value: 0.7895 and parameters: {'C': 0.6112188010430278, 'degree': 10, 'kernel': 'rbf', 'gamma': 'scale'}. Best is trial 10 with value: 0.7925.\n",
      "[I 2025-06-01 16:18:49,422] Trial 201 finished with value: 0.7925 and parameters: {'C': 0.9115493336042646, 'degree': 8, 'kernel': 'rbf', 'gamma': 'auto'}. Best is trial 10 with value: 0.7925.\n",
      "[I 2025-06-01 16:18:49,766] Trial 202 finished with value: 0.7925 and parameters: {'C': 0.9346554760506804, 'degree': 9, 'kernel': 'rbf', 'gamma': 'auto'}. Best is trial 10 with value: 0.7925.\n",
      "[I 2025-06-01 16:18:50,113] Trial 203 finished with value: 0.791 and parameters: {'C': 0.8883963319275359, 'degree': 7, 'kernel': 'rbf', 'gamma': 'auto'}. Best is trial 10 with value: 0.7925.\n",
      "[I 2025-06-01 16:18:50,478] Trial 204 finished with value: 0.7915 and parameters: {'C': 0.9476676373817559, 'degree': 6, 'kernel': 'rbf', 'gamma': 'auto'}. Best is trial 10 with value: 0.7925.\n",
      "[I 2025-06-01 16:18:50,864] Trial 205 finished with value: 0.7925 and parameters: {'C': 0.9164021407116951, 'degree': 7, 'kernel': 'rbf', 'gamma': 'auto'}. Best is trial 10 with value: 0.7925.\n",
      "[I 2025-06-01 16:18:51,250] Trial 206 finished with value: 0.7915 and parameters: {'C': 0.858613598076169, 'degree': 9, 'kernel': 'rbf', 'gamma': 'auto'}. Best is trial 10 with value: 0.7925.\n",
      "[I 2025-06-01 16:18:51,623] Trial 207 finished with value: 0.7925 and parameters: {'C': 0.9996211315401033, 'degree': 10, 'kernel': 'rbf', 'gamma': 'auto'}. Best is trial 10 with value: 0.7925.\n",
      "[I 2025-06-01 16:18:52,066] Trial 208 finished with value: 0.749 and parameters: {'C': 0.9609241027839757, 'degree': 9, 'kernel': 'linear', 'gamma': 'auto'}. Best is trial 10 with value: 0.7925.\n",
      "[I 2025-06-01 16:18:52,432] Trial 209 finished with value: 0.7915 and parameters: {'C': 0.8923154616744458, 'degree': 10, 'kernel': 'rbf', 'gamma': 'auto'}. Best is trial 10 with value: 0.7925.\n",
      "[I 2025-06-01 16:18:52,795] Trial 210 finished with value: 0.7925 and parameters: {'C': 0.9342716088028962, 'degree': 9, 'kernel': 'rbf', 'gamma': 'auto'}. Best is trial 10 with value: 0.7925.\n",
      "[I 2025-06-01 16:18:53,175] Trial 211 finished with value: 0.7825 and parameters: {'C': 0.4202598802560433, 'degree': 10, 'kernel': 'rbf', 'gamma': 'auto'}. Best is trial 10 with value: 0.7925.\n",
      "[I 2025-06-01 16:18:53,560] Trial 212 finished with value: 0.7925 and parameters: {'C': 0.9132831798094576, 'degree': 10, 'kernel': 'rbf', 'gamma': 'auto'}. Best is trial 10 with value: 0.7925.\n",
      "[I 2025-06-01 16:18:53,921] Trial 213 finished with value: 0.7925 and parameters: {'C': 0.9322726134948692, 'degree': 10, 'kernel': 'rbf', 'gamma': 'auto'}. Best is trial 10 with value: 0.7925.\n",
      "[I 2025-06-01 16:18:54,315] Trial 214 finished with value: 0.791 and parameters: {'C': 0.9810412921575851, 'degree': 10, 'kernel': 'rbf', 'gamma': 'auto'}. Best is trial 10 with value: 0.7925.\n",
      "[I 2025-06-01 16:18:54,699] Trial 215 finished with value: 0.7915 and parameters: {'C': 0.9591053321059402, 'degree': 9, 'kernel': 'rbf', 'gamma': 'auto'}. Best is trial 10 with value: 0.7925.\n",
      "[I 2025-06-01 16:18:55,101] Trial 216 finished with value: 0.564 and parameters: {'C': 0.8764007827762219, 'degree': 10, 'kernel': 'poly', 'gamma': 'auto'}. Best is trial 10 with value: 0.7925.\n",
      "[I 2025-06-01 16:18:55,484] Trial 217 finished with value: 0.7925 and parameters: {'C': 0.901804956862595, 'degree': 9, 'kernel': 'rbf', 'gamma': 'auto'}. Best is trial 10 with value: 0.7925.\n",
      "[I 2025-06-01 16:18:55,872] Trial 218 finished with value: 0.792 and parameters: {'C': 0.9406952608585709, 'degree': 10, 'kernel': 'rbf', 'gamma': 'auto'}. Best is trial 10 with value: 0.7925.\n",
      "[I 2025-06-01 16:18:56,260] Trial 219 finished with value: 0.7925 and parameters: {'C': 0.9189216774496242, 'degree': 9, 'kernel': 'rbf', 'gamma': 'auto'}. Best is trial 10 with value: 0.7925.\n",
      "[I 2025-06-01 16:18:56,617] Trial 220 finished with value: 0.791 and parameters: {'C': 0.9775866977556753, 'degree': 10, 'kernel': 'rbf', 'gamma': 'auto'}. Best is trial 10 with value: 0.7925.\n",
      "[I 2025-06-01 16:18:56,984] Trial 221 finished with value: 0.7925 and parameters: {'C': 0.91858493184897, 'degree': 9, 'kernel': 'rbf', 'gamma': 'auto'}. Best is trial 10 with value: 0.7925.\n",
      "[I 2025-06-01 16:18:57,382] Trial 222 finished with value: 0.7915 and parameters: {'C': 0.8960646773868953, 'degree': 9, 'kernel': 'rbf', 'gamma': 'auto'}. Best is trial 10 with value: 0.7925.\n",
      "[I 2025-06-01 16:18:57,768] Trial 223 finished with value: 0.792 and parameters: {'C': 0.942819224219195, 'degree': 9, 'kernel': 'rbf', 'gamma': 'auto'}. Best is trial 10 with value: 0.7925.\n",
      "[I 2025-06-01 16:18:58,148] Trial 224 finished with value: 0.7925 and parameters: {'C': 0.9223357841394729, 'degree': 9, 'kernel': 'rbf', 'gamma': 'auto'}. Best is trial 10 with value: 0.7925.\n",
      "[I 2025-06-01 16:18:58,514] Trial 225 finished with value: 0.7915 and parameters: {'C': 0.9585338859784173, 'degree': 9, 'kernel': 'rbf', 'gamma': 'auto'}. Best is trial 10 with value: 0.7925.\n",
      "[I 2025-06-01 16:18:58,877] Trial 226 finished with value: 0.705 and parameters: {'C': 0.8946641570126227, 'degree': 10, 'kernel': 'sigmoid', 'gamma': 'auto'}. Best is trial 10 with value: 0.7925.\n",
      "[I 2025-06-01 16:18:59,244] Trial 227 finished with value: 0.7905 and parameters: {'C': 0.8778745629287391, 'degree': 2, 'kernel': 'rbf', 'gamma': 'auto'}. Best is trial 10 with value: 0.7925.\n",
      "[I 2025-06-01 16:18:59,590] Trial 228 finished with value: 0.7925 and parameters: {'C': 0.9316999497895575, 'degree': 9, 'kernel': 'rbf', 'gamma': 'auto'}. Best is trial 10 with value: 0.7925.\n",
      "[I 2025-06-01 16:18:59,939] Trial 229 finished with value: 0.791 and parameters: {'C': 0.9717811693736775, 'degree': 10, 'kernel': 'rbf', 'gamma': 'scale'}. Best is trial 10 with value: 0.7925.\n",
      "[I 2025-06-01 16:19:00,290] Trial 230 finished with value: 0.7925 and parameters: {'C': 0.9075368359005587, 'degree': 8, 'kernel': 'rbf', 'gamma': 'auto'}. Best is trial 10 with value: 0.7925.\n",
      "[I 2025-06-01 16:19:00,688] Trial 231 finished with value: 0.7925 and parameters: {'C': 0.9997458207710964, 'degree': 10, 'kernel': 'rbf', 'gamma': 'auto'}. Best is trial 10 with value: 0.7925.\n",
      "[I 2025-06-01 16:19:01,052] Trial 232 finished with value: 0.7925 and parameters: {'C': 0.9992613246667447, 'degree': 10, 'kernel': 'rbf', 'gamma': 'auto'}. Best is trial 10 with value: 0.7925.\n",
      "[I 2025-06-01 16:19:01,410] Trial 233 finished with value: 0.7915 and parameters: {'C': 0.9545621645450955, 'degree': 10, 'kernel': 'rbf', 'gamma': 'auto'}. Best is trial 10 with value: 0.7925.\n",
      "[I 2025-06-01 16:19:01,775] Trial 234 finished with value: 0.791 and parameters: {'C': 0.9814597837744279, 'degree': 9, 'kernel': 'rbf', 'gamma': 'auto'}. Best is trial 10 with value: 0.7925.\n",
      "[I 2025-06-01 16:19:02,148] Trial 235 finished with value: 0.792 and parameters: {'C': 0.9432118573276879, 'degree': 10, 'kernel': 'rbf', 'gamma': 'auto'}. Best is trial 10 with value: 0.7925.\n",
      "[I 2025-06-01 16:19:02,516] Trial 236 finished with value: 0.791 and parameters: {'C': 0.9775838040258835, 'degree': 9, 'kernel': 'rbf', 'gamma': 'auto'}. Best is trial 10 with value: 0.7925.\n",
      "[I 2025-06-01 16:19:02,879] Trial 237 finished with value: 0.7925 and parameters: {'C': 0.9109168824965411, 'degree': 10, 'kernel': 'rbf', 'gamma': 'auto'}. Best is trial 10 with value: 0.7925.\n",
      "[I 2025-06-01 16:19:03,249] Trial 238 finished with value: 0.7925 and parameters: {'C': 0.9307196668623531, 'degree': 9, 'kernel': 'rbf', 'gamma': 'auto'}. Best is trial 10 with value: 0.7925.\n",
      "[I 2025-06-01 16:19:03,728] Trial 239 finished with value: 0.7915 and parameters: {'C': 0.960111006028987, 'degree': 10, 'kernel': 'rbf', 'gamma': 'auto'}. Best is trial 10 with value: 0.7925.\n",
      "[I 2025-06-01 16:19:04,188] Trial 240 finished with value: 0.7905 and parameters: {'C': 0.8847427862312504, 'degree': 9, 'kernel': 'rbf', 'gamma': 'auto'}. Best is trial 10 with value: 0.7925.\n",
      "[I 2025-06-01 16:19:04,573] Trial 241 finished with value: 0.7925 and parameters: {'C': 0.9225485854224637, 'degree': 9, 'kernel': 'rbf', 'gamma': 'auto'}. Best is trial 10 with value: 0.7925.\n",
      "[I 2025-06-01 16:19:04,941] Trial 242 finished with value: 0.7925 and parameters: {'C': 0.9067385816788149, 'degree': 9, 'kernel': 'rbf', 'gamma': 'auto'}. Best is trial 10 with value: 0.7925.\n",
      "[I 2025-06-01 16:19:05,294] Trial 243 finished with value: 0.7925 and parameters: {'C': 0.9362595148941262, 'degree': 9, 'kernel': 'rbf', 'gamma': 'auto'}. Best is trial 10 with value: 0.7925.\n",
      "[I 2025-06-01 16:19:05,677] Trial 244 finished with value: 0.7915 and parameters: {'C': 0.8588917254103816, 'degree': 9, 'kernel': 'rbf', 'gamma': 'auto'}. Best is trial 10 with value: 0.7925.\n",
      "[I 2025-06-01 16:19:06,027] Trial 245 finished with value: 0.7925 and parameters: {'C': 0.9100281168348279, 'degree': 10, 'kernel': 'rbf', 'gamma': 'auto'}. Best is trial 10 with value: 0.7925.\n",
      "[I 2025-06-01 16:19:06,399] Trial 246 finished with value: 0.792 and parameters: {'C': 0.9880784358077515, 'degree': 9, 'kernel': 'rbf', 'gamma': 'auto'}. Best is trial 10 with value: 0.7925.\n",
      "[I 2025-06-01 16:19:06,876] Trial 247 finished with value: 0.7495 and parameters: {'C': 0.958446770482917, 'degree': 10, 'kernel': 'linear', 'gamma': 'auto'}. Best is trial 10 with value: 0.7925.\n",
      "[I 2025-06-01 16:19:07,238] Trial 248 finished with value: 0.791 and parameters: {'C': 0.88834300133787, 'degree': 8, 'kernel': 'rbf', 'gamma': 'auto'}. Best is trial 10 with value: 0.7925.\n",
      "[I 2025-06-01 16:19:07,591] Trial 249 finished with value: 0.7925 and parameters: {'C': 0.9217093315584708, 'degree': 10, 'kernel': 'rbf', 'gamma': 'scale'}. Best is trial 10 with value: 0.7925.\n",
      "[I 2025-06-01 16:19:07,952] Trial 250 finished with value: 0.792 and parameters: {'C': 0.9463508889061745, 'degree': 7, 'kernel': 'rbf', 'gamma': 'auto'}. Best is trial 10 with value: 0.7925.\n",
      "[I 2025-06-01 16:19:08,298] Trial 251 finished with value: 0.791 and parameters: {'C': 0.9709143163516065, 'degree': 6, 'kernel': 'rbf', 'gamma': 'auto'}. Best is trial 10 with value: 0.7925.\n",
      "[I 2025-06-01 16:19:08,646] Trial 252 finished with value: 0.7925 and parameters: {'C': 0.9991306700916818, 'degree': 9, 'kernel': 'rbf', 'gamma': 'auto'}. Best is trial 10 with value: 0.7925.\n",
      "[I 2025-06-01 16:19:09,030] Trial 253 finished with value: 0.564 and parameters: {'C': 0.900881314430517, 'degree': 10, 'kernel': 'poly', 'gamma': 'auto'}. Best is trial 10 with value: 0.7925.\n",
      "[I 2025-06-01 16:19:09,412] Trial 254 finished with value: 0.792 and parameters: {'C': 0.8663098698987253, 'degree': 9, 'kernel': 'rbf', 'gamma': 'auto'}. Best is trial 10 with value: 0.7925.\n",
      "[I 2025-06-01 16:19:09,778] Trial 255 finished with value: 0.7925 and parameters: {'C': 0.9280133717190459, 'degree': 8, 'kernel': 'rbf', 'gamma': 'auto'}. Best is trial 10 with value: 0.7925.\n",
      "[I 2025-06-01 16:19:10,141] Trial 256 finished with value: 0.791 and parameters: {'C': 0.9509063508840403, 'degree': 10, 'kernel': 'rbf', 'gamma': 'auto'}. Best is trial 10 with value: 0.7925.\n",
      "[I 2025-06-01 16:19:10,503] Trial 257 finished with value: 0.7905 and parameters: {'C': 0.8852227889334522, 'degree': 9, 'kernel': 'rbf', 'gamma': 'auto'}. Best is trial 10 with value: 0.7925.\n",
      "[I 2025-06-01 16:19:10,916] Trial 258 finished with value: 0.7925 and parameters: {'C': 0.9149993445351982, 'degree': 5, 'kernel': 'rbf', 'gamma': 'auto'}. Best is trial 10 with value: 0.7925.\n",
      "[I 2025-06-01 16:19:11,380] Trial 259 finished with value: 0.7005 and parameters: {'C': 0.9790405385541887, 'degree': 10, 'kernel': 'sigmoid', 'gamma': 'auto'}. Best is trial 10 with value: 0.7925.\n",
      "[I 2025-06-01 16:19:11,776] Trial 260 finished with value: 0.792 and parameters: {'C': 0.9407172398246029, 'degree': 9, 'kernel': 'rbf', 'gamma': 'scale'}. Best is trial 10 with value: 0.7925.\n",
      "[I 2025-06-01 16:19:12,164] Trial 261 finished with value: 0.791 and parameters: {'C': 0.9669542469080303, 'degree': 10, 'kernel': 'rbf', 'gamma': 'auto'}. Best is trial 10 with value: 0.7925.\n",
      "[I 2025-06-01 16:19:12,525] Trial 262 finished with value: 0.792 and parameters: {'C': 0.899942870724493, 'degree': 9, 'kernel': 'rbf', 'gamma': 'auto'}. Best is trial 10 with value: 0.7925.\n",
      "[I 2025-06-01 16:19:12,870] Trial 263 finished with value: 0.792 and parameters: {'C': 0.8431880995191922, 'degree': 10, 'kernel': 'rbf', 'gamma': 'auto'}. Best is trial 10 with value: 0.7925.\n",
      "[I 2025-06-01 16:19:13,215] Trial 264 finished with value: 0.7925 and parameters: {'C': 0.9229494643379252, 'degree': 9, 'kernel': 'rbf', 'gamma': 'auto'}. Best is trial 10 with value: 0.7925.\n",
      "[I 2025-06-01 16:19:13,573] Trial 265 finished with value: 0.7915 and parameters: {'C': 0.8690853954508204, 'degree': 8, 'kernel': 'rbf', 'gamma': 'auto'}. Best is trial 10 with value: 0.7925.\n",
      "[I 2025-06-01 16:19:13,922] Trial 266 finished with value: 0.7925 and parameters: {'C': 0.9990862136364976, 'degree': 10, 'kernel': 'rbf', 'gamma': 'auto'}. Best is trial 10 with value: 0.7925.\n",
      "[I 2025-06-01 16:19:14,281] Trial 267 finished with value: 0.792 and parameters: {'C': 0.9429680312151372, 'degree': 9, 'kernel': 'rbf', 'gamma': 'auto'}. Best is trial 10 with value: 0.7925.\n",
      "[I 2025-06-01 16:19:14,623] Trial 268 finished with value: 0.792 and parameters: {'C': 0.9003281047293976, 'degree': 10, 'kernel': 'rbf', 'gamma': 'auto'}. Best is trial 10 with value: 0.7925.\n",
      "[I 2025-06-01 16:19:15,004] Trial 269 finished with value: 0.791 and parameters: {'C': 0.9657484516576943, 'degree': 9, 'kernel': 'rbf', 'gamma': 'auto'}. Best is trial 10 with value: 0.7925.\n",
      "[I 2025-06-01 16:19:15,395] Trial 270 finished with value: 0.7925 and parameters: {'C': 0.9233116934621557, 'degree': 10, 'kernel': 'rbf', 'gamma': 'auto'}. Best is trial 10 with value: 0.7925.\n",
      "[I 2025-06-01 16:19:15,870] Trial 271 finished with value: 0.749 and parameters: {'C': 0.9817189744361683, 'degree': 9, 'kernel': 'linear', 'gamma': 'scale'}. Best is trial 10 with value: 0.7925.\n",
      "[I 2025-06-01 16:19:16,242] Trial 272 finished with value: 0.791 and parameters: {'C': 0.8213852844589364, 'degree': 9, 'kernel': 'rbf', 'gamma': 'auto'}. Best is trial 10 with value: 0.7925.\n",
      "[I 2025-06-01 16:19:16,608] Trial 273 finished with value: 0.7905 and parameters: {'C': 0.8809613551319183, 'degree': 10, 'kernel': 'rbf', 'gamma': 'auto'}. Best is trial 10 with value: 0.7925.\n",
      "[I 2025-06-01 16:19:17,044] Trial 274 finished with value: 0.7765 and parameters: {'C': 0.2920074069003327, 'degree': 5, 'kernel': 'rbf', 'gamma': 'auto'}. Best is trial 10 with value: 0.7925.\n",
      "[I 2025-06-01 16:19:17,532] Trial 275 finished with value: 0.791 and parameters: {'C': 0.9514800818796558, 'degree': 9, 'kernel': 'rbf', 'gamma': 'auto'}. Best is trial 10 with value: 0.7925.\n",
      "[I 2025-06-01 16:19:17,993] Trial 276 finished with value: 0.7925 and parameters: {'C': 0.9105709177967759, 'degree': 10, 'kernel': 'rbf', 'gamma': 'auto'}. Best is trial 10 with value: 0.7925.\n",
      "[I 2025-06-01 16:19:18,390] Trial 277 finished with value: 0.569 and parameters: {'C': 0.3612250121972821, 'degree': 9, 'kernel': 'poly', 'gamma': 'auto'}. Best is trial 10 with value: 0.7925.\n",
      "[I 2025-06-01 16:19:18,834] Trial 278 finished with value: 0.7655 and parameters: {'C': 0.1573737243422959, 'degree': 10, 'kernel': 'rbf', 'gamma': 'auto'}. Best is trial 10 with value: 0.7925.\n",
      "[I 2025-06-01 16:19:19,301] Trial 279 finished with value: 0.7925 and parameters: {'C': 0.9346546406612551, 'degree': 9, 'kernel': 'rbf', 'gamma': 'auto'}. Best is trial 10 with value: 0.7925.\n",
      "[I 2025-06-01 16:19:19,688] Trial 280 finished with value: 0.7915 and parameters: {'C': 0.8931198512026199, 'degree': 10, 'kernel': 'rbf', 'gamma': 'auto'}. Best is trial 10 with value: 0.7925.\n",
      "[I 2025-06-01 16:19:20,063] Trial 281 finished with value: 0.791 and parameters: {'C': 0.9832414925700954, 'degree': 8, 'kernel': 'rbf', 'gamma': 'auto'}. Best is trial 10 with value: 0.7925.\n",
      "[I 2025-06-01 16:19:20,445] Trial 282 finished with value: 0.7075 and parameters: {'C': 0.9268273551065981, 'degree': 9, 'kernel': 'sigmoid', 'gamma': 'auto'}. Best is trial 10 with value: 0.7925.\n",
      "[I 2025-06-01 16:19:20,800] Trial 283 finished with value: 0.7915 and parameters: {'C': 0.9563227131065993, 'degree': 10, 'kernel': 'rbf', 'gamma': 'scale'}. Best is trial 10 with value: 0.7925.\n",
      "[I 2025-06-01 16:19:21,211] Trial 284 finished with value: 0.7925 and parameters: {'C': 0.9098323888289775, 'degree': 9, 'kernel': 'rbf', 'gamma': 'auto'}. Best is trial 10 with value: 0.7925.\n",
      "[I 2025-06-01 16:19:21,606] Trial 285 finished with value: 0.7915 and parameters: {'C': 0.9650000406240746, 'degree': 10, 'kernel': 'rbf', 'gamma': 'auto'}. Best is trial 10 with value: 0.7925.\n",
      "[I 2025-06-01 16:19:21,989] Trial 286 finished with value: 0.7915 and parameters: {'C': 0.8722503401659698, 'degree': 9, 'kernel': 'rbf', 'gamma': 'auto'}. Best is trial 10 with value: 0.7925.\n",
      "[I 2025-06-01 16:19:22,353] Trial 287 finished with value: 0.7925 and parameters: {'C': 0.9989078979932257, 'degree': 10, 'kernel': 'rbf', 'gamma': 'auto'}. Best is trial 10 with value: 0.7925.\n",
      "[I 2025-06-01 16:19:22,720] Trial 288 finished with value: 0.7925 and parameters: {'C': 0.9369834144455846, 'degree': 9, 'kernel': 'rbf', 'gamma': 'auto'}. Best is trial 10 with value: 0.7925.\n",
      "[I 2025-06-01 16:19:23,083] Trial 289 finished with value: 0.7905 and parameters: {'C': 0.6692012460180601, 'degree': 8, 'kernel': 'rbf', 'gamma': 'auto'}. Best is trial 10 with value: 0.7925.\n",
      "[I 2025-06-01 16:19:23,432] Trial 290 finished with value: 0.7915 and parameters: {'C': 0.8929991231700171, 'degree': 10, 'kernel': 'rbf', 'gamma': 'auto'}. Best is trial 10 with value: 0.7925.\n",
      "[I 2025-06-01 16:19:23,787] Trial 291 finished with value: 0.7925 and parameters: {'C': 0.9175924927697514, 'degree': 9, 'kernel': 'rbf', 'gamma': 'auto'}. Best is trial 10 with value: 0.7925.\n",
      "[I 2025-06-01 16:19:24,162] Trial 292 finished with value: 0.7865 and parameters: {'C': 0.5395971657767146, 'degree': 1, 'kernel': 'rbf', 'gamma': 'auto'}. Best is trial 10 with value: 0.7925.\n",
      "[I 2025-06-01 16:19:24,515] Trial 293 finished with value: 0.792 and parameters: {'C': 0.9448046911193644, 'degree': 5, 'kernel': 'rbf', 'gamma': 'auto'}. Best is trial 10 with value: 0.7925.\n",
      "[I 2025-06-01 16:19:24,921] Trial 294 finished with value: 0.791 and parameters: {'C': 0.9709678771682705, 'degree': 10, 'kernel': 'rbf', 'gamma': 'auto'}. Best is trial 10 with value: 0.7925.\n",
      "[I 2025-06-01 16:19:25,303] Trial 295 finished with value: 0.7915 and parameters: {'C': 0.8554301573953886, 'degree': 9, 'kernel': 'rbf', 'gamma': 'scale'}. Best is trial 10 with value: 0.7925.\n",
      "[I 2025-06-01 16:19:25,797] Trial 296 finished with value: 0.749 and parameters: {'C': 0.9097775875636511, 'degree': 10, 'kernel': 'linear', 'gamma': 'auto'}. Best is trial 10 with value: 0.7925.\n",
      "[I 2025-06-01 16:19:26,179] Trial 297 finished with value: 0.791 and parameters: {'C': 0.9829909957709135, 'degree': 9, 'kernel': 'rbf', 'gamma': 'auto'}. Best is trial 10 with value: 0.7925.\n",
      "[I 2025-06-01 16:19:26,576] Trial 298 finished with value: 0.7925 and parameters: {'C': 0.9342415068036194, 'degree': 7, 'kernel': 'rbf', 'gamma': 'auto'}. Best is trial 10 with value: 0.7925.\n",
      "[I 2025-06-01 16:19:27,010] Trial 299 finished with value: 0.7905 and parameters: {'C': 0.8775527041100274, 'degree': 10, 'kernel': 'rbf', 'gamma': 'auto'}. Best is trial 10 with value: 0.7925.\n"
     ]
    },
    {
     "data": {
      "text/plain": [
       "{'C': 0.999690551085025, 'degree': 10, 'kernel': 'rbf', 'gamma': 'auto'}"
      ]
     },
     "execution_count": 16,
     "metadata": {},
     "output_type": "execute_result"
    }
   ],
   "source": [
    "def objective(trial):\n",
    "    C = trial.suggest_float('C', 0, 1)\n",
    "    degree = trial.suggest_int('degree', 1, 10)\n",
    "    kernel = trial.suggest_categorical('kernel',['linear', 'poly', 'rbf', 'sigmoid'])\n",
    "    gamma = trial.suggest_categorical('gamma',['scale', 'auto'])\n",
    "    \n",
    "    \n",
    "    model = make_pipeline(StandardScaler(), SVC(C=C, degree=degree, kernel=kernel, gamma=gamma))\n",
    "    model.fit(X_train, Y_train)\n",
    "    score = model.score(X_test, Y_test)\n",
    "    return score\n",
    "\n",
    "study = optuna.create_study(study_name=\"SVC hyperparameter optimisation v2\", direction=\"maximize\")\n",
    "study.optimize(objective, n_trials=300)\n",
    "\n",
    "study.best_params"
   ]
  },
  {
   "cell_type": "markdown",
   "id": "d95c4008-7465-4521-b882-eb70614ccc7a",
   "metadata": {},
   "source": [
    "## GradientBoostingClassifier"
   ]
  },
  {
   "cell_type": "code",
   "execution_count": null,
   "id": "56c7c23b-0f0b-40b7-aafa-0e2a8b5dbc88",
   "metadata": {},
   "outputs": [
    {
     "name": "stderr",
     "output_type": "stream",
     "text": [
      "[I 2025-06-01 16:24:10,694] A new study created in memory with name: GradientBoostingClassifier hyperparameter optimisation \n",
      "[I 2025-06-01 16:24:12,545] Trial 0 finished with value: 0.7175 and parameters: {'subsample': 0.5710151979402134, 'learning_rate': 0.3985119450650667, 'n_estimators': 131, 'loss': 'log_loss'}. Best is trial 0 with value: 0.7175.\n",
      "[I 2025-06-01 16:24:13,017] Trial 1 finished with value: 0.691 and parameters: {'subsample': 0.5694176848656171, 'learning_rate': 0.8805810902024276, 'n_estimators': 33, 'loss': 'log_loss'}. Best is trial 0 with value: 0.7175.\n",
      "[I 2025-06-01 16:24:13,314] Trial 2 finished with value: 0.674 and parameters: {'subsample': 0.01117646264056249, 'learning_rate': 0.22289539160900973, 'n_estimators': 202, 'loss': 'exponential'}. Best is trial 0 with value: 0.7175.\n",
      "[I 2025-06-01 16:24:15,679] Trial 3 finished with value: 0.745 and parameters: {'subsample': 0.6685737319035788, 'learning_rate': 0.2917811474436589, 'n_estimators': 145, 'loss': 'log_loss'}. Best is trial 3 with value: 0.745.\n",
      "[I 2025-06-01 16:24:21,881] Trial 4 finished with value: 0.754 and parameters: {'subsample': 0.8659016841204102, 'learning_rate': 0.2529788872070794, 'n_estimators': 292, 'loss': 'log_loss'}. Best is trial 4 with value: 0.754.\n",
      "[I 2025-06-01 16:24:28,241] Trial 5 finished with value: 0.7685 and parameters: {'subsample': 0.9477175105089757, 'learning_rate': 0.06055599206107076, 'n_estimators': 280, 'loss': 'exponential'}. Best is trial 5 with value: 0.7685.\n",
      "[I 2025-06-01 16:24:28,350] Trial 6 finished with value: 0.721 and parameters: {'subsample': 0.08055056183949272, 'learning_rate': 0.1516791997289353, 'n_estimators': 36, 'loss': 'exponential'}. Best is trial 5 with value: 0.7685.\n",
      "[I 2025-06-01 16:24:32,980] Trial 7 finished with value: 0.77 and parameters: {'subsample': 0.6420020520792945, 'learning_rate': 0.08676532569266115, 'n_estimators': 292, 'loss': 'exponential'}. Best is trial 7 with value: 0.77.\n",
      "[I 2025-06-01 16:24:33,028] Trial 8 finished with value: 0.7375 and parameters: {'subsample': 0.7635228767599379, 'learning_rate': 0.656898765930789, 'n_estimators': 2, 'loss': 'log_loss'}. Best is trial 7 with value: 0.77.\n",
      "[I 2025-06-01 16:24:33,182] Trial 9 finished with value: 0.75 and parameters: {'subsample': 0.5195464446041911, 'learning_rate': 0.03225619589209927, 'n_estimators': 11, 'loss': 'exponential'}. Best is trial 7 with value: 0.77.\n",
      "[I 2025-06-01 16:24:35,007] Trial 10 finished with value: 0.71 and parameters: {'subsample': 0.2956974304597893, 'learning_rate': 0.5762103868648221, 'n_estimators': 222, 'loss': 'exponential'}. Best is trial 7 with value: 0.77.\n",
      "[I 2025-06-01 16:24:42,726] Trial 11 finished with value: 0.768 and parameters: {'subsample': 0.9816713185865586, 'learning_rate': 0.01784342150849924, 'n_estimators': 297, 'loss': 'exponential'}. Best is trial 7 with value: 0.77.\n",
      "[I 2025-06-01 16:24:45,104] Trial 12 finished with value: 0.728 and parameters: {'subsample': 0.3442046783775168, 'learning_rate': 0.4192766864102884, 'n_estimators': 244, 'loss': 'exponential'}. Best is trial 7 with value: 0.77.\n",
      "[I 2025-06-01 16:24:51,538] Trial 13 finished with value: 0.763 and parameters: {'subsample': 0.9674924592080835, 'learning_rate': 0.12000024557913137, 'n_estimators': 252, 'loss': 'exponential'}. Best is trial 7 with value: 0.77.\n",
      "[I 2025-06-01 16:24:55,255] Trial 14 finished with value: 0.7255 and parameters: {'subsample': 0.752738157510526, 'learning_rate': 0.7657654465410502, 'n_estimators': 184, 'loss': 'exponential'}. Best is trial 7 with value: 0.77.\n",
      "[I 2025-06-01 16:24:56,264] Trial 15 finished with value: 0.725 and parameters: {'subsample': 0.38427502384071566, 'learning_rate': 0.36356576246560446, 'n_estimators': 91, 'loss': 'exponential'}. Best is trial 7 with value: 0.77.\n",
      "[I 2025-06-01 16:25:01,949] Trial 16 finished with value: 0.7635 and parameters: {'subsample': 0.8255059498766475, 'learning_rate': 0.11805593356471392, 'n_estimators': 260, 'loss': 'exponential'}. Best is trial 7 with value: 0.77.\n",
      "[I 2025-06-01 16:25:04,981] Trial 17 finished with value: 0.771 and parameters: {'subsample': 0.6496108228051801, 'learning_rate': 0.014397348262207552, 'n_estimators': 188, 'loss': 'exponential'}. Best is trial 17 with value: 0.771.\n",
      "[I 2025-06-01 16:25:07,881] Trial 18 finished with value: 0.7305 and parameters: {'subsample': 0.6744799501160491, 'learning_rate': 0.5099904739556453, 'n_estimators': 178, 'loss': 'exponential'}. Best is trial 17 with value: 0.771.\n",
      "[I 2025-06-01 16:25:09,092] Trial 19 finished with value: 0.7585 and parameters: {'subsample': 0.47911065471017816, 'learning_rate': 0.18061071292459163, 'n_estimators': 103, 'loss': 'exponential'}. Best is trial 17 with value: 0.771.\n",
      "[I 2025-06-01 16:25:10,351] Trial 20 finished with value: 0.669 and parameters: {'subsample': 0.20964459465555607, 'learning_rate': 0.93535550359011, 'n_estimators': 223, 'loss': 'exponential'}. Best is trial 17 with value: 0.771.\n",
      "[I 2025-06-01 16:25:14,679] Trial 21 finished with value: 0.774 and parameters: {'subsample': 0.6578277042417279, 'learning_rate': 0.009537780876386494, 'n_estimators': 274, 'loss': 'exponential'}. Best is trial 21 with value: 0.774.\n",
      "[I 2025-06-01 16:25:18,969] Trial 22 finished with value: 0.762 and parameters: {'subsample': 0.6675147065985523, 'learning_rate': 0.005049259955006033, 'n_estimators': 270, 'loss': 'exponential'}. Best is trial 21 with value: 0.774.\n",
      "[I 2025-06-01 16:25:21,705] Trial 23 finished with value: 0.762 and parameters: {'subsample': 0.4804876707938974, 'learning_rate': 0.1053510513456692, 'n_estimators': 222, 'loss': 'exponential'}. Best is trial 21 with value: 0.774.\n",
      "[I 2025-06-01 16:25:25,403] Trial 24 finished with value: 0.74 and parameters: {'subsample': 0.6190210005913488, 'learning_rate': 0.31415035015200654, 'n_estimators': 239, 'loss': 'exponential'}. Best is trial 21 with value: 0.774.\n",
      "[I 2025-06-01 16:25:28,598] Trial 25 finished with value: 0.756 and parameters: {'subsample': 0.7425876764508181, 'learning_rate': 0.19759757088526203, 'n_estimators': 172, 'loss': 'exponential'}. Best is trial 21 with value: 0.774.\n",
      "[I 2025-06-01 16:25:34,709] Trial 26 finished with value: 0.697 and parameters: {'subsample': 0.8572999225843052, 'learning_rate': 0.00018136810794197947, 'n_estimators': 300, 'loss': 'log_loss'}. Best is trial 21 with value: 0.774.\n",
      "[I 2025-06-01 16:25:37,752] Trial 27 finished with value: 0.7645 and parameters: {'subsample': 0.4318140205170436, 'learning_rate': 0.06693624998577696, 'n_estimators': 271, 'loss': 'exponential'}. Best is trial 21 with value: 0.774.\n",
      "[I 2025-06-01 16:25:40,574] Trial 28 finished with value: 0.75 and parameters: {'subsample': 0.5633577241823587, 'learning_rate': 0.18475800448578417, 'n_estimators': 202, 'loss': 'exponential'}. Best is trial 21 with value: 0.774.\n",
      "[I 2025-06-01 16:25:42,595] Trial 29 finished with value: 0.7265 and parameters: {'subsample': 0.6306542272992617, 'learning_rate': 0.43051634603596545, 'n_estimators': 130, 'loss': 'log_loss'}. Best is trial 21 with value: 0.774.\n",
      "[I 2025-06-01 16:25:44,726] Trial 30 finished with value: 0.74 and parameters: {'subsample': 0.741723907004362, 'learning_rate': 0.3354610204544182, 'n_estimators': 116, 'loss': 'exponential'}. Best is trial 21 with value: 0.774.\n",
      "[I 2025-06-01 16:25:50,281] Trial 31 finished with value: 0.756 and parameters: {'subsample': 0.817330764362316, 'learning_rate': 0.07578756203349624, 'n_estimators': 281, 'loss': 'exponential'}. Best is trial 21 with value: 0.774.\n",
      "[I 2025-06-01 16:25:56,411] Trial 32 finished with value: 0.7615 and parameters: {'subsample': 0.9431269552159686, 'learning_rate': 0.07961004730135796, 'n_estimators': 273, 'loss': 'exponential'}. Best is trial 21 with value: 0.774.\n",
      "[I 2025-06-01 16:25:57,552] Trial 33 finished with value: 0.7525 and parameters: {'subsample': 0.5942705674017887, 'learning_rate': 0.2604376213730542, 'n_estimators': 77, 'loss': 'exponential'}. Best is trial 21 with value: 0.774.\n",
      "[I 2025-06-01 16:26:02,903] Trial 34 finished with value: 0.758 and parameters: {'subsample': 0.9153063544831144, 'learning_rate': 0.14262966823256618, 'n_estimators': 242, 'loss': 'log_loss'}. Best is trial 21 with value: 0.774.\n",
      "[I 2025-06-01 16:26:05,765] Trial 35 finished with value: 0.771 and parameters: {'subsample': 0.5650838599801139, 'learning_rate': 0.05739962486259791, 'n_estimators': 205, 'loss': 'exponential'}. Best is trial 21 with value: 0.774.\n",
      "[I 2025-06-01 16:26:07,985] Trial 36 finished with value: 0.7415 and parameters: {'subsample': 0.5379877215534546, 'learning_rate': 0.2338990989554499, 'n_estimators': 160, 'loss': 'exponential'}. Best is trial 21 with value: 0.774.\n",
      "[I 2025-06-01 16:26:11,376] Trial 37 finished with value: 0.693 and parameters: {'subsample': 0.6769427228713996, 'learning_rate': 0.7829809611994437, 'n_estimators': 205, 'loss': 'log_loss'}. Best is trial 21 with value: 0.774.\n",
      "[I 2025-06-01 16:26:13,725] Trial 38 finished with value: 0.7685 and parameters: {'subsample': 0.7030245984481662, 'learning_rate': 0.04907748569410491, 'n_estimators': 136, 'loss': 'exponential'}. Best is trial 21 with value: 0.774.\n",
      "[I 2025-06-01 16:26:16,514] Trial 39 finished with value: 0.7615 and parameters: {'subsample': 0.5793771447521584, 'learning_rate': 0.1504372011411471, 'n_estimators': 198, 'loss': 'exponential'}. Best is trial 21 with value: 0.774.\n",
      "[I 2025-06-01 16:26:19,027] Trial 40 finished with value: 0.7255 and parameters: {'subsample': 0.4374090887556167, 'learning_rate': 0.27510808169538775, 'n_estimators': 230, 'loss': 'log_loss'}. Best is trial 21 with value: 0.774.\n",
      "[I 2025-06-01 16:26:24,568] Trial 41 finished with value: 0.764 and parameters: {'subsample': 0.7965979149704029, 'learning_rate': 0.04552774811859815, 'n_estimators': 284, 'loss': 'exponential'}. Best is trial 21 with value: 0.774.\n",
      "[I 2025-06-01 16:26:29,944] Trial 42 finished with value: 0.76 and parameters: {'subsample': 0.8815586136651106, 'learning_rate': 0.08114551987472912, 'n_estimators': 257, 'loss': 'exponential'}. Best is trial 21 with value: 0.774.\n",
      "[I 2025-06-01 16:26:31,874] Trial 43 finished with value: 0.766 and parameters: {'subsample': 0.25211990808384904, 'learning_rate': 0.005810960717329113, 'n_estimators': 288, 'loss': 'exponential'}. Best is trial 21 with value: 0.774.\n",
      "[I 2025-06-01 16:26:35,998] Trial 44 finished with value: 0.7505 and parameters: {'subsample': 0.6221640819208086, 'learning_rate': 0.21444473605603825, 'n_estimators': 263, 'loss': 'exponential'}. Best is trial 21 with value: 0.774.\n",
      "[I 2025-06-01 16:26:38,134] Trial 45 finished with value: 0.7565 and parameters: {'subsample': 0.5291317394815915, 'learning_rate': 0.11901870086775351, 'n_estimators': 159, 'loss': 'exponential'}. Best is trial 21 with value: 0.774.\n",
      "[I 2025-06-01 16:26:39,073] Trial 46 finished with value: 0.7215 and parameters: {'subsample': 0.10977106470432685, 'learning_rate': 0.16686695373431853, 'n_estimators': 249, 'loss': 'exponential'}. Best is trial 21 with value: 0.774.\n",
      "[I 2025-06-01 16:26:42,720] Trial 47 finished with value: 0.769 and parameters: {'subsample': 0.711353520797421, 'learning_rate': 0.043214586055872146, 'n_estimators': 209, 'loss': 'exponential'}. Best is trial 21 with value: 0.774.\n",
      "[I 2025-06-01 16:26:45,995] Trial 48 finished with value: 0.733 and parameters: {'subsample': 0.712544922881974, 'learning_rate': 0.624603242426822, 'n_estimators': 190, 'loss': 'exponential'}. Best is trial 21 with value: 0.774.\n",
      "[I 2025-06-01 16:26:49,367] Trial 49 finished with value: 0.769 and parameters: {'subsample': 0.6456397878253032, 'learning_rate': 0.03292900714281696, 'n_estimators': 215, 'loss': 'exponential'}. Best is trial 21 with value: 0.774.\n",
      "[I 2025-06-01 16:26:52,596] Trial 50 finished with value: 0.7635 and parameters: {'subsample': 0.7929826553122146, 'learning_rate': 0.10268354163521548, 'n_estimators': 168, 'loss': 'exponential'}. Best is trial 21 with value: 0.774.\n",
      "[I 2025-06-01 16:26:55,937] Trial 51 finished with value: 0.767 and parameters: {'subsample': 0.6584285031209481, 'learning_rate': 0.03749298967728234, 'n_estimators': 210, 'loss': 'exponential'}. Best is trial 21 with value: 0.774.\n",
      "[I 2025-06-01 16:26:59,663] Trial 52 finished with value: 0.7705 and parameters: {'subsample': 0.7104962005635451, 'learning_rate': 0.04459523958361487, 'n_estimators': 215, 'loss': 'exponential'}. Best is trial 21 with value: 0.774.\n",
      "[I 2025-06-01 16:27:03,630] Trial 53 finished with value: 0.7565 and parameters: {'subsample': 0.7111584847891418, 'learning_rate': 0.1383325125338396, 'n_estimators': 230, 'loss': 'exponential'}. Best is trial 21 with value: 0.774.\n",
      "[I 2025-06-01 16:27:06,295] Trial 54 finished with value: 0.7615 and parameters: {'subsample': 0.587435056667118, 'learning_rate': 0.09678428058287267, 'n_estimators': 185, 'loss': 'exponential'}. Best is trial 21 with value: 0.774.\n",
      "[I 2025-06-01 16:27:09,054] Trial 55 finished with value: 0.7495 and parameters: {'subsample': 0.7655548633440337, 'learning_rate': 0.0019367541500388587, 'n_estimators': 153, 'loss': 'exponential'}. Best is trial 21 with value: 0.774.\n",
      "[I 2025-06-01 16:27:11,679] Trial 56 finished with value: 0.7695 and parameters: {'subsample': 0.5500151459558288, 'learning_rate': 0.05432521711702034, 'n_estimators': 195, 'loss': 'exponential'}. Best is trial 21 with value: 0.774.\n",
      "[I 2025-06-01 16:27:14,047] Trial 57 finished with value: 0.7695 and parameters: {'subsample': 0.4814751673936425, 'learning_rate': 0.0652948211926612, 'n_estimators': 197, 'loss': 'exponential'}. Best is trial 21 with value: 0.774.\n"
     ]
    }
   ],
   "source": [
    "def objective(trial):\n",
    "    subsample = trial.suggest_float('subsample', 0, 1)\n",
    "    learning_rate = trial.suggest_float('learning_rate', 0.001, 1)\n",
    "    n_estimators = trial.suggest_int('n_estimators', 1, 300)\n",
    "    loss = trial.suggest_categorical('loss',['log_loss', 'exponential'])\n",
    "    \n",
    "    \n",
    "    model = GradientBoostingClassifier(subsample=subsample, learning_rate=learning_rate, n_estimators=n_estimators, loss=loss)\n",
    "    model.fit(X_train, Y_train)\n",
    "    score = model.score(X_test, Y_test)\n",
    "    return score\n",
    "\n",
    "study = optuna.create_study(study_name=\"GradientBoostingClassifier hyperparameter optimisation \", direction=\"maximize\")\n",
    "study.optimize(objective, n_trials=300)\n",
    "\n",
    "study.best_params"
   ]
  }
 ],
 "metadata": {
  "kernelspec": {
   "display_name": "Python 3 (ipykernel)",
   "language": "python",
   "name": "python3"
  },
  "language_info": {
   "codemirror_mode": {
    "name": "ipython",
    "version": 3
   },
   "file_extension": ".py",
   "mimetype": "text/x-python",
   "name": "python",
   "nbconvert_exporter": "python",
   "pygments_lexer": "ipython3",
   "version": "3.13.3"
  }
 },
 "nbformat": 4,
 "nbformat_minor": 5
}
