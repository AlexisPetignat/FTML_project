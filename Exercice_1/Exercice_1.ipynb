{
 "cells": [
  {
   "cell_type": "markdown",
   "id": "b30b8f4e-9a22-4897-9b9a-cacbefeef210",
   "metadata": {},
   "source": [
    "# FTML Project Exercice 1"
   ]
  },
  {
   "cell_type": "markdown",
   "id": "f63932b1-e033-4e05-9f83-99f8b6eeefae",
   "metadata": {},
   "source": [
    "This is the first exercise of the FTML project.\n",
    "\n",
    "## Question 1\n",
    "\n",
    "In this exercise, we will talk about politics. The events, characters, and situations described in this document are entirely fictional and are not intended to represent or reflect any real individuals, institutions, or occurrences. Any resemblance to actual events or persons, living or dead, is purely coincidental.\n",
    "\n",
    "Anyways, our subject for this supervised learning will be the signature of decrees by Danold Trump, resulting in a market dropdown. \n",
    "\n",
    "- Our input space X is N² as a vector (n, t), with n the number of decrees signed this day and t, how many tweets Danold Trump posted about these decrees (both n and t natural and positive).\n",
    "\n",
    "  \n",
    "  \n",
    "- Our output space is a Natural y, representing the market Dropdown for the same day, in percents and as a discrete value. We consider this number natural and strictly positive.\n",
    "\n",
    "  \n",
    "\n",
    "  \n",
    "- The relation between X (n, t) and Y are as follow:<p style=\"text-align:center;\">Y = n * r + t</p>We introduce r a random natural between 1 and 3 (we consider the probabilities are spread uniformly between 1, 2 and 3).\n",
    "\n",
    "  \n",
    "\n",
    "- We will use Square Loss as the loss function."
   ]
  },
  {
   "cell_type": "code",
   "execution_count": null,
   "id": "b26020db-2b4d-4b28-a0e7-b0457b76266a",
   "metadata": {},
   "outputs": [],
   "source": []
  }
 ],
 "metadata": {
  "kernelspec": {
   "display_name": "FTML-venv",
   "language": "python",
   "name": "ftml-venv"
  },
  "language_info": {
   "codemirror_mode": {
    "name": "ipython",
    "version": 3
   },
   "file_extension": ".py",
   "mimetype": "text/x-python",
   "name": "python",
   "nbconvert_exporter": "python",
   "pygments_lexer": "ipython3",
   "version": "3.13.3"
  }
 },
 "nbformat": 4,
 "nbformat_minor": 5
}
