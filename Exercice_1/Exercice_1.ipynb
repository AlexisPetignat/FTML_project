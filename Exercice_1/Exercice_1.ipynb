{
 "cells": [
  {
   "cell_type": "markdown",
   "id": "b30b8f4e-9a22-4897-9b9a-cacbefeef210",
   "metadata": {},
   "source": [
    "# FTML Project Exercice 1"
   ]
  },
  {
   "cell_type": "markdown",
   "id": "f63932b1-e033-4e05-9f83-99f8b6eeefae",
   "metadata": {},
   "source": [
    "This is the first exercise of the FTML project.\n",
    "\n",
    "## Question 1\n",
    "\n",
    "In this exercise, we will talk about politics. The events, characters, and situations described in this document are entirely fictional and are not intended to represent or reflect any real individuals, institutions, or occurrences. Any resemblance to actual events or persons, living or dead, is purely coincidental.\n",
    "\n",
    "Anyways, our subject for this supervised learning will be the signature of decrees by Danold Trump, resulting in a market dropdown. \n",
    "\n",
    "- Our input space X is N² as a vector (n, t), with n the number of decrees signed this day and t, how many tweets Danold Trump posted about these decrees (both n and t natural and positive).\n",
    "\n",
    "  \n",
    "  \n",
    "- Our output space is a Natural y, representing the market Dropdown for the same day, in percents and as a discrete value. We consider this number natural and strictly positive.\n",
    "\n",
    "  \n",
    "\n",
    "  \n",
    "- The relation between X (n, t) and Y are as follow:<p style=\"text-align:center;\">Y = n * S + t</p>We introduce S a random variable, following a uniform distribution in {1, 2, 3}.\n",
    "\n",
    "  \n",
    "\n",
    "- We will use Square Loss as the loss function.\n",
    "\n"
   ]
  },
  {
   "cell_type": "markdown",
   "id": "d0625613-940d-4f5e-b44e-a90fad875dbf",
   "metadata": {},
   "source": [
    "\n",
    "---\n",
    "## Let us define the Bayes predictor for this situation:\n",
    "\n",
    "- First, we identify the random component as the variable S, which's expectation can be calculated as follow:\n",
    "\n",
    "$$E[S] = \\frac{1 + 2 + 3}{3}  = 2$$\n",
    "\n",
    "- Therefore, we can calculate the Bayes estimator for our settings:\n",
    "\n",
    "$$f^*(n, t) = 2n + t$$\n",
    "\n",
    "---\n",
    "## Let us calculate the Bayes Risk for this setting\n",
    "\n",
    "- We must calculate the real risk of the bayes estimator, which is defined as the average loss for the estimator, defined as follow:\n",
    "\n",
    "$$\n",
    "R(f^*(n, t)) = \\mathbb{E}\\left[(Y - (n \\cdot S + t))^2\\right]\n",
    "$$\n",
    "\n",
    "- We now compute the variance of Y - f*, which is the variance of f*(n, t), calculated as follow\n",
    "\n",
    "$$\n",
    "\\text{Var}(f^*) = \\text{Var}(n \\cdot S + t) = n^2 \\cdot \\text{Var}(S)\n",
    "$$\n",
    "\n",
    "- Then we compute Var(S) as follow:\n",
    "\n",
    "$$\n",
    "\\text{Var}(S) = \\mathbb{E}[S^2] - \\left(\\mathbb{E}[S]\\right)^2 = \\frac{1^2 + 2^2 + 3^2}{3} - 4 = \\frac{14}{3} - 4 = \\frac{2}{3}\n",
    "$$\n",
    "\n",
    "$$\\newline\\newline$$\n",
    "\n",
    "\n",
    "\n",
    "Therefore, our Bayes is risk is 2n²/3\n",
    "    "
   ]
  },
  {
   "cell_type": "markdown",
   "id": "f801c1f0-d177-4b94-8d0e-69fb765bfcac",
   "metadata": {},
   "source": [
    "## Question 2\n",
    "\n",
    "For this question, we will define a new estimator and compute its associated risks on a test set."
   ]
  },
  {
   "cell_type": "code",
   "execution_count": null,
   "id": "7b107e54-434c-47e8-bf53-f9ce30e74c2a",
   "metadata": {},
   "outputs": [],
   "source": []
  }
 ],
 "metadata": {
  "kernelspec": {
   "display_name": "FTML-venv",
   "language": "python",
   "name": "ftml-venv"
  },
  "language_info": {
   "codemirror_mode": {
    "name": "ipython",
    "version": 3
   },
   "file_extension": ".py",
   "mimetype": "text/x-python",
   "name": "python",
   "nbconvert_exporter": "python",
   "pygments_lexer": "ipython3",
   "version": "3.13.3"
  }
 },
 "nbformat": 4,
 "nbformat_minor": 5
}
