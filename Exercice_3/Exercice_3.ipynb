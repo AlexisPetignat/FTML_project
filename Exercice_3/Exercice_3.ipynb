{
 "cells": [
  {
   "cell_type": "markdown",
   "id": "b30b8f4e-9a22-4897-9b9a-cacbefeef210",
   "metadata": {},
   "source": [
    "# FTML Project - Exercice 3"
   ]
  },
  {
   "cell_type": "code",
   "execution_count": 1,
   "id": "6f72e045-0dcd-4c15-bab6-b06127b19b4d",
   "metadata": {},
   "outputs": [],
   "source": [
    "import numpy as np"
   ]
  },
  {
   "cell_type": "code",
   "execution_count": 2,
   "id": "de8119fb-fe3b-4ee3-a31f-3c1b3670e280",
   "metadata": {},
   "outputs": [],
   "source": [
    "def OLS_estimator(X: np.ndarray, y: np.ndarray) -> np.ndarray:\n",
    "    covariance_matrix = X.T @ X\n",
    "    inverse_covariance = np.linalg.inv(covariance_matrix)\n",
    "    theta_hat = inverse_covariance @ (X.T @ y)\n",
    "    return theta_hat"
   ]
  },
  {
   "cell_type": "code",
   "execution_count": 3,
   "id": "4b997cb5-5106-433b-b324-6865d7171348",
   "metadata": {},
   "outputs": [],
   "source": [
    "def generate_output_data(\n",
    "    X: np.ndarray, theta_star: np.ndarray, sigma: float, rng, n_repetitions: int\n",
    ") -> np.ndarray:\n",
    "    n = X.shape[0]\n",
    "    noise = rng.normal(0, sigma, size=(n, n_repetitions))\n",
    "    y = X @ theta_star + noise\n",
    "    return y"
   ]
  },
  {
   "cell_type": "code",
   "execution_count": 4,
   "id": "b24a452a-a481-4d86-8801-6754c0089c79",
   "metadata": {},
   "outputs": [],
   "source": [
    "def test_error(sigma: int, n_train: int, d: int, n_repetitions: int) -> float:\n",
    "    rng = np.random.default_rng()\n",
    "    \n",
    "    X = rng.uniform(low=0, high=1, size=(n_train, d))\n",
    "    \n",
    "    theta_star = rng.uniform(low=0, high=1, size=(d, 1))\n",
    "    \n",
    "    y = generate_output_data(\n",
    "        X=X,\n",
    "        theta_star=theta_star,\n",
    "        sigma=sigma,\n",
    "        rng=rng,\n",
    "        n_repetitions=n_repetitions,\n",
    "    )\n",
    "    \n",
    "    theta_hat = OLS_estimator(\n",
    "        X=X,\n",
    "        y=y,\n",
    "    )\n",
    "\n",
    "    mean_test_error = ((np.linalg.norm(y - (X @ theta_hat))**2) / (n_train - d)) / n_repetitions\n",
    "    return mean_test_error"
   ]
  },
  {
   "cell_type": "code",
   "execution_count": 5,
   "id": "ce8e9bfa-2c5f-4f2a-af26-24c458096dce",
   "metadata": {},
   "outputs": [
    {
     "name": "stdout",
     "output_type": "stream",
     "text": [
      "sigma = 8, sigma^2 = 64, E = 64.00\n"
     ]
    },
    {
     "name": "stderr",
     "output_type": "stream",
     "text": [
      "/var/folders/14/crm6wxzx7813ytz60bfsjbhm0000gn/T/ipykernel_44969/4257574561.py:6: RuntimeWarning: divide by zero encountered in matmul\n",
      "  y = X @ theta_star + noise\n",
      "/var/folders/14/crm6wxzx7813ytz60bfsjbhm0000gn/T/ipykernel_44969/4257574561.py:6: RuntimeWarning: overflow encountered in matmul\n",
      "  y = X @ theta_star + noise\n",
      "/var/folders/14/crm6wxzx7813ytz60bfsjbhm0000gn/T/ipykernel_44969/4257574561.py:6: RuntimeWarning: invalid value encountered in matmul\n",
      "  y = X @ theta_star + noise\n",
      "/var/folders/14/crm6wxzx7813ytz60bfsjbhm0000gn/T/ipykernel_44969/1533581191.py:2: RuntimeWarning: divide by zero encountered in matmul\n",
      "  covariance_matrix = X.T @ X\n",
      "/var/folders/14/crm6wxzx7813ytz60bfsjbhm0000gn/T/ipykernel_44969/1533581191.py:2: RuntimeWarning: overflow encountered in matmul\n",
      "  covariance_matrix = X.T @ X\n",
      "/var/folders/14/crm6wxzx7813ytz60bfsjbhm0000gn/T/ipykernel_44969/1533581191.py:2: RuntimeWarning: invalid value encountered in matmul\n",
      "  covariance_matrix = X.T @ X\n",
      "/var/folders/14/crm6wxzx7813ytz60bfsjbhm0000gn/T/ipykernel_44969/1533581191.py:4: RuntimeWarning: divide by zero encountered in matmul\n",
      "  theta_hat = inverse_covariance @ (X.T @ y)\n",
      "/var/folders/14/crm6wxzx7813ytz60bfsjbhm0000gn/T/ipykernel_44969/1533581191.py:4: RuntimeWarning: overflow encountered in matmul\n",
      "  theta_hat = inverse_covariance @ (X.T @ y)\n",
      "/var/folders/14/crm6wxzx7813ytz60bfsjbhm0000gn/T/ipykernel_44969/1533581191.py:4: RuntimeWarning: invalid value encountered in matmul\n",
      "  theta_hat = inverse_covariance @ (X.T @ y)\n",
      "/var/folders/14/crm6wxzx7813ytz60bfsjbhm0000gn/T/ipykernel_44969/2809763827.py:21: RuntimeWarning: divide by zero encountered in matmul\n",
      "  mean_test_error = ((np.linalg.norm(y - (X @ theta_hat))**2) / (n_train - d)) / n_repetitions\n",
      "/var/folders/14/crm6wxzx7813ytz60bfsjbhm0000gn/T/ipykernel_44969/2809763827.py:21: RuntimeWarning: overflow encountered in matmul\n",
      "  mean_test_error = ((np.linalg.norm(y - (X @ theta_hat))**2) / (n_train - d)) / n_repetitions\n",
      "/var/folders/14/crm6wxzx7813ytz60bfsjbhm0000gn/T/ipykernel_44969/2809763827.py:21: RuntimeWarning: invalid value encountered in matmul\n",
      "  mean_test_error = ((np.linalg.norm(y - (X @ theta_hat))**2) / (n_train - d)) / n_repetitions\n"
     ]
    }
   ],
   "source": [
    "sigma = 8\n",
    "mean_test_error = test_error(sigma, 200, 30, 100000)\n",
    "print(f'sigma = {sigma}, sigma^2 = {sigma**2}, E = {mean_test_error:.2f}')"
   ]
  }
 ],
 "metadata": {
  "kernelspec": {
   "display_name": "Python 3.13",
   "language": "python",
   "name": "py313"
  },
  "language_info": {
   "codemirror_mode": {
    "name": "ipython",
    "version": 3
   },
   "file_extension": ".py",
   "mimetype": "text/x-python",
   "name": "python",
   "nbconvert_exporter": "python",
   "pygments_lexer": "ipython3",
   "version": "3.13.3"
  }
 },
 "nbformat": 4,
 "nbformat_minor": 5
}
