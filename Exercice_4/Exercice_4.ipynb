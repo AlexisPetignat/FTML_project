{
 "cells": [
  {
   "cell_type": "markdown",
   "id": "b30b8f4e-9a22-4897-9b9a-cacbefeef210",
   "metadata": {},
   "source": [
    "# FTML Project"
   ]
  },
  {
   "cell_type": "code",
   "execution_count": 9,
   "id": "f6bb1459-6658-4783-814e-d24afa2393a2",
   "metadata": {},
   "outputs": [
    {
     "name": "stdout",
     "output_type": "stream",
     "text": [
      "[[0.21299085 0.15793756 0.15385995 ... 0.03363709 0.13454801 0.78253074]\n",
      " [0.76968704 0.38497069 0.07402732 ... 0.65857444 0.33445438 0.00229702]\n",
      " [0.1881224  0.97026479 0.98560911 ... 0.12440952 0.95665322 0.0659203 ]\n",
      " ...\n",
      " [0.93365216 0.53675255 0.80927242 ... 0.10679115 0.76153087 0.22111448]\n",
      " [0.42781714 0.74237926 0.6231648  ... 0.35784022 0.53559913 0.96028974]\n",
      " [0.14952304 0.49762269 0.08090538 ... 0.6501903  0.37003847 0.01634557]]\n"
     ]
    }
   ],
   "source": [
    "from sklearn.ensemble import (\n",
    "    RandomForestRegressor,\n",
    "    AdaBoostRegressor,\n",
    "    BaggingRegressor,\n",
    "    GradientBoostingRegressor,\n",
    "    HistGradientBoostingRegressor,\n",
    ")\n",
    "\n",
    "from sklearn.pipeline import make_pipeline\n",
    "from sklearn.preprocessing import PolynomialFeatures, StandardScaler\n",
    "import numpy as np\n",
    "\n",
    "X_train = np.load(\"../data/regression/X_train.npy\")\n",
    "X_test = np.load(\"../data/regression/X_test.npy\")\n",
    "Y_train = np.squeeze(np.load(\"../data/regression/y_train.npy\"))\n",
    "Y_test = np.squeeze(np.load(\"../data/regression/y_test.npy\"))\n",
    "\n",
    "print(X_test)"
   ]
  },
  {
   "cell_type": "code",
   "execution_count": null,
   "id": "a078c1f0-b4fd-4c66-bf3d-d5f63ee2449a",
   "metadata": {},
   "outputs": [
    {
     "name": "stderr",
     "output_type": "stream",
     "text": [
      "/home/alex/afs/Master/FTML_project/venv/lib/python3.13/site-packages/sklearn/ensemble/_gb.py:672: DataConversionWarning: A column-vector y was passed when a 1d array was expected. Please change the shape of y to (n_samples, ), for example using ravel().\n",
      "  y = column_or_1d(y, warn=True)  # TODO: Is this still required?\n"
     ]
    }
   ],
   "source": [
    "polynomial_2 = make_pipeline(PolynomialFeatures(3, include_bias=False))\n",
    "\n",
    "model = make_pipeline(\n",
    "        polynomial_2,\n",
    "        GradientBoostingRegressor(random_state=572),\n",
    "    )\n",
    "\n",
    "model.fit(X_train, Y_train)\n",
    "score = model.score\n",
    "print(score)\n",
    "\n",
    "y_pred = model.predict(X_test)\n",
    "r2_score = r2_score(y_test, y_pred)\n",
    "print(r2_score)"
   ]
  }
 ],
 "metadata": {
  "kernelspec": {
   "display_name": "ftml-venv",
   "language": "python",
   "name": "venv"
  },
  "language_info": {
   "codemirror_mode": {
    "name": "ipython",
    "version": 3
   },
   "file_extension": ".py",
   "mimetype": "text/x-python",
   "name": "python",
   "nbconvert_exporter": "python",
   "pygments_lexer": "ipython3",
   "version": "3.13.3"
  }
 },
 "nbformat": 4,
 "nbformat_minor": 5
}
