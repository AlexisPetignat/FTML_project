{
 "cells": [
  {
   "cell_type": "markdown",
   "id": "b30b8f4e-9a22-4897-9b9a-cacbefeef210",
   "metadata": {},
   "source": [
    "# FTML Project Exercice 4\n",
    "\n",
    "For this exercice, we will try to run a regression analysis on the given dataset using several methods.\n",
    "\n",
    "## Load the data"
   ]
  },
  {
   "cell_type": "code",
   "execution_count": 80,
   "id": "f6bb1459-6658-4783-814e-d24afa2393a2",
   "metadata": {},
   "outputs": [],
   "source": [
    "from sklearn.ensemble import (\n",
    "    RandomForestRegressor,\n",
    "    AdaBoostRegressor,\n",
    "    BaggingRegressor,\n",
    "    GradientBoostingRegressor,\n",
    "    HistGradientBoostingRegressor,\n",
    "    ExtraTreesRegressor,\n",
    "    StackingRegressor,\n",
    "    VotingRegressor\n",
    ")\n",
    "\n",
    "from sklearn.linear_model import (\n",
    "    Ridge,\n",
    "    LinearRegression,\n",
    "    ARDRegression\n",
    ")\n",
    "\n",
    "from sklearn.pipeline import make_pipeline\n",
    "from sklearn.preprocessing import PolynomialFeatures, StandardScaler\n",
    "from sklearn.decomposition import PCA\n",
    "from sklearn.metrics import r2_score\n",
    "import numpy as np\n",
    "\n",
    "X_train = np.load(\"../data/regression/X_train.npy\")\n",
    "X_test = np.load(\"../data/regression/X_test.npy\")\n",
    "Y_train = np.load(\"../data/regression/y_train.npy\")\n",
    "Y_test = np.load(\"../data/regression/y_test.npy\")"
   ]
  },
  {
   "cell_type": "markdown",
   "id": "87a1d5b0-2762-47e8-a838-b5f0f650b7d9",
   "metadata": {},
   "source": [
    "## Preprocess the data\n",
    "\n",
    "Several preprocessing steps are required in order to exploit the data. We will reformat the Y_test and Y_train arrays, since they are of wrong size, by squeezing them. We will also reduce the dimentionality of the dataset since it is quite massive."
   ]
  },
  {
   "cell_type": "code",
   "execution_count": 81,
   "id": "eadd2053-8c2f-4c76-bbe3-6e59f0155bca",
   "metadata": {},
   "outputs": [],
   "source": [
    "# Squeeze output arrays\n",
    "Y_train = np.squeeze(Y_train)\n",
    "Y_test = np.squeeze(Y_test)"
   ]
  },
  {
   "cell_type": "markdown",
   "id": "2fed424c-cfa0-4219-bb64-c03d0b80eb71",
   "metadata": {},
   "source": [
    "## Run the analysis"
   ]
  },
  {
   "cell_type": "code",
   "execution_count": 86,
   "id": "a078c1f0-b4fd-4c66-bf3d-d5f63ee2449a",
   "metadata": {},
   "outputs": [],
   "source": [
    "#polynomial = make_pipeline(PolynomialFeatures(2, include_bias=False))\n",
    "def try_model(regressor) :\n",
    "    model = make_pipeline(\n",
    "            #PCA(n_components=0.1),\n",
    "            regressor,\n",
    "        )\n",
    "    \n",
    "    model.fit(X_train, Y_train)\n",
    "    \n",
    "    Y_pred = model.predict(X_test)\n",
    "    r2 = r2_score(Y_test, Y_pred)\n",
    "    print(f\"Score for regressor {regressor}: {r2}\")"
   ]
  },
  {
   "cell_type": "code",
   "execution_count": 88,
   "id": "562efccf-3188-4728-a54c-2d497a980e88",
   "metadata": {},
   "outputs": [
    {
     "name": "stdout",
     "output_type": "stream",
     "text": [
      "Score for regressor RandomForestRegressor(): 0.35031765961807415\n",
      "Score for regressor AdaBoostRegressor(): 0.43896567965135436\n",
      "Score for regressor BaggingRegressor(): 0.2313250070830012\n",
      "Score for regressor GradientBoostingRegressor(): 0.5573225666618242\n",
      "Score for regressor HistGradientBoostingRegressor(): 0.6585198502015022\n",
      "Score for regressor ExtraTreesRegressor(): 0.3662188617729878\n",
      "Score for regressor Ridge(): 0.7160766522783868\n",
      "Score for regressor LinearRegression(): -9.918822989380713\n",
      "Score for regressor ARDRegression(): 0.8943235444105082\n"
     ]
    }
   ],
   "source": [
    "regressors = [\n",
    "    RandomForestRegressor(),\n",
    "    AdaBoostRegressor(),\n",
    "    BaggingRegressor(),\n",
    "    GradientBoostingRegressor(),\n",
    "    HistGradientBoostingRegressor(),\n",
    "    ExtraTreesRegressor(),\n",
    "    #StackingRegressor(),\n",
    "    #VotingRegressor(),\n",
    "    Ridge(),\n",
    "    LinearRegression(),\n",
    "    ARDRegression()\n",
    "]\n",
    "\n",
    "for regressor in regressors :\n",
    "    try_model(regressor)"
   ]
  },
  {
   "cell_type": "code",
   "execution_count": null,
   "id": "c9069d15-5ada-49b3-a8b2-30d9f5566358",
   "metadata": {},
   "outputs": [],
   "source": []
  }
 ],
 "metadata": {
  "kernelspec": {
   "display_name": "ftml-venv",
   "language": "python",
   "name": "venv"
  },
  "language_info": {
   "codemirror_mode": {
    "name": "ipython",
    "version": 3
   },
   "file_extension": ".py",
   "mimetype": "text/x-python",
   "name": "python",
   "nbconvert_exporter": "python",
   "pygments_lexer": "ipython3",
   "version": "3.13.3"
  }
 },
 "nbformat": 4,
 "nbformat_minor": 5
}
